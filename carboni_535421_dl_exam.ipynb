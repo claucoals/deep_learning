{
  "cells": [
    {
      "cell_type": "markdown",
      "source": [
        "# *MACHINE LEARNING, ARTIFICIAL NEURAL NETWORKS AND DEEP LEARNING pt. 2*\n",
        "Exam Session 19 June 2025\n",
        "\n",
        "By Claudia Maria Carboni (Matricola: 535421)"
      ],
      "metadata": {
        "id": "pKz9QltPXmM8"
      }
    },
    {
      "cell_type": "markdown",
      "source": [
        "## **1. Model Choice**\n",
        "\n",
        "Since the task is to predict both a binary label (good/bad review) and a continuous score for each hotel review, I need a model that can deal with both types of outputs at the same time and make the most of the data available.\n",
        "\n",
        "- For the text part, I use an LSTM, because LSTMs are great at picking up sentiment, structure, and patterns in sequences of words.  \n",
        "- For the numerical features, I go with a standard MLP, which works well for tabular data and can quickly learn simple patterns.\n",
        "\n",
        "I combine these two approaches so the model can learn from both the text and numbers together, which feels like the most natural way to tackle this problem, since both types of information matter for how people rate and describe hotels.\n"
      ],
      "metadata": {
        "id": "f_46y_TO8E_A"
      }
    },
    {
      "cell_type": "markdown",
      "source": [
        "### **1.a Data Loading**\n",
        "\n",
        "I load the data directly from a public repository so that the notebook is fully reproducible without any manual intervention. This way, everything can be executed as required by the exam guidelines.\n"
      ],
      "metadata": {
        "id": "-u6B_HaEBpnY"
      }
    },
    {
      "cell_type": "code",
      "metadata": {
        "source_hash": "d0a80059",
        "execution_start": 1751039040724,
        "execution_millis": 1070,
        "execution_context_id": "2bb7d26d-6008-42d6-a392-1d486e162e53",
        "cell_id": "354a01d863154635851768305cc75df4",
        "deepnote_cell_type": "code",
        "id": "GopBXu7ImBZt"
      },
      "source": [
        "# Standard Libraries\n",
        "import pandas as pd\n",
        "import numpy as np\n",
        "import matplotlib.pyplot as plt\n",
        "import seaborn as sns"
      ],
      "execution_count": 1,
      "outputs": []
    },
    {
      "cell_type": "code",
      "metadata": {
        "source_hash": "44675158",
        "execution_start": 1751039041844,
        "execution_millis": 2010,
        "execution_context_id": "2bb7d26d-6008-42d6-a392-1d486e162e53",
        "cell_id": "76f8fa788e75440199951166135fa70f",
        "deepnote_cell_type": "code",
        "id": "_FhNHueLmBZu"
      },
      "source": [
        "# Libraries from Tensorflow and Keras\n",
        "import tensorflow as tf\n",
        "from tensorflow.keras import layers, models, optimizers, callbacks\n",
        "from tensorflow.keras.preprocessing.text import Tokenizer\n",
        "from tensorflow.keras.preprocessing.sequence import pad_sequences\n",
        "from tensorflow.keras.utils import to_categorical"
      ],
      "execution_count": 2,
      "outputs": []
    },
    {
      "cell_type": "code",
      "metadata": {
        "source_hash": "7937af38",
        "execution_start": 1751039043904,
        "execution_millis": 18,
        "execution_context_id": "2bb7d26d-6008-42d6-a392-1d486e162e53",
        "cell_id": "596dfa4605534ec0a2dc417b59b0ba53",
        "deepnote_cell_type": "code",
        "id": "zKkG45vzmBZv"
      },
      "source": [
        "# Libraries from Sklearn\n",
        "from sklearn.model_selection import train_test_split\n",
        "from sklearn.preprocessing import StandardScaler, LabelEncoder\n",
        "from sklearn.metrics import classification_report, confusion_matrix, accuracy_score, f1_score\n",
        "from sklearn.metrics import mean_squared_error, mean_absolute_error, r2_score"
      ],
      "execution_count": 3,
      "outputs": []
    },
    {
      "cell_type": "code",
      "metadata": {
        "source_hash": "e45b8990",
        "execution_start": 1751039043984,
        "execution_millis": 0,
        "execution_context_id": "2bb7d26d-6008-42d6-a392-1d486e162e53",
        "cell_id": "f118f976adf544bd9121e8a42cb363d7",
        "deepnote_cell_type": "code",
        "id": "txNQjDBEmBZw"
      },
      "source": [
        "import re\n",
        "import string\n",
        "from collections import Counter\n",
        "import warnings\n",
        "warnings.filterwarnings('ignore')"
      ],
      "execution_count": 4,
      "outputs": []
    },
    {
      "cell_type": "markdown",
      "source": [
        "## **2. Initial Data Exploration and Preprocessing**\n",
        "\n",
        "First, I quickly check the main statistics and class distribution to get a sense of the data and make sure nothing is off.  \n",
        "For preprocessing, I extract only the year from the review date (to keep things simple), encode the review type as binary (Good = 1, Bad = 0), and clean the review text (lowercase, remove punctuation, numbers, stopwords).  \n",
        "I also combine the review text with the hotel name into a single field because sometimes the hotel name itself carries a signal about the review, and it helps the model context.\n"
      ],
      "metadata": {
        "id": "6vwCn4OWB6tk"
      }
    },
    {
      "cell_type": "code",
      "metadata": {
        "source_hash": "195e803d",
        "execution_start": 1751039044044,
        "execution_millis": 135,
        "execution_context_id": "2bb7d26d-6008-42d6-a392-1d486e162e53",
        "cell_id": "f0f70fdf8f9e43e99714bc422060bb9f",
        "deepnote_cell_type": "code",
        "colab": {
          "base_uri": "https://localhost:8080/",
          "height": 0
        },
        "id": "p88i0HCJmBZw",
        "outputId": "33bb533e-9c97-4b72-88cf-306cebdb1f99"
      },
      "source": [
        "url = 'https://raw.githubusercontent.com/claucoals/deep_learning/main/input_data.csv'\n",
        "df = pd.read_csv(url)\n",
        "df.columns"
      ],
      "execution_count": 5,
      "outputs": [
        {
          "output_type": "execute_result",
          "data": {
            "text/plain": [
              "Index(['Hotel_Address', 'Review_Date', 'Average_Score', 'Hotel_Name',\n",
              "       'Reviewer_Nationality', 'Hotel_number_reviews',\n",
              "       'Reviewer_number_reviews', 'Review_Score', 'Review', 'Review_Type'],\n",
              "      dtype='object')"
            ]
          },
          "metadata": {},
          "execution_count": 5
        }
      ]
    },
    {
      "cell_type": "code",
      "metadata": {
        "source_hash": "c085b6ba",
        "execution_start": 1751039044234,
        "execution_millis": 1,
        "execution_context_id": "2bb7d26d-6008-42d6-a392-1d486e162e53",
        "cell_id": "3e58e4ea95ad4fc4b47b81666adb10eb",
        "deepnote_cell_type": "code",
        "colab": {
          "base_uri": "https://localhost:8080/",
          "height": 571
        },
        "id": "xgJUSSz0mBZ3",
        "outputId": "93202664-377e-4227-c41d-bdce48e1d164"
      },
      "source": [
        "df.head()"
      ],
      "execution_count": 6,
      "outputs": [
        {
          "output_type": "execute_result",
          "data": {
            "text/plain": [
              "                                       Hotel_Address Review_Date  \\\n",
              "0  Scarsdale Scarsdale Place Kensington Kensingto...    5/2/2017   \n",
              "1  53 53 59 Kilburn High Road Maida Vale London C...    8/4/2016   \n",
              "2  Pelai Pelai 28 Ciutat Vella 08002 Barcelona Spain  11/17/2016   \n",
              "3  3 3 Place du G n ral Koenig 17th arr 75017 Par...    2/4/2016   \n",
              "4  Epping Epping Forest 30 Oak Hill London IG8 9N...   7/27/2016   \n",
              "\n",
              "   Average_Score                              Hotel_Name Reviewer_Nationality  \\\n",
              "0            8.1  Copthorne Tara Hotel London Kensington      United Kingdom    \n",
              "1            7.1  BEST WESTERN Maitrise Hotel Maida Vale      United Kingdom    \n",
              "2            8.6                 Catalonia Ramblas 4 Sup      United Kingdom    \n",
              "3            7.1              Hyatt Regency Paris Etoile      United Kingdom    \n",
              "4            7.5         Best Western PLUS Epping Forest      United Kingdom    \n",
              "\n",
              "   Hotel_number_reviews  Reviewer_number_reviews  Review_Score  \\\n",
              "0                  7105                        2           6.7   \n",
              "1                  1877                        8           5.8   \n",
              "2                  4276                        2           6.3   \n",
              "3                  3973                        3           5.8   \n",
              "4                   587                        7           3.3   \n",
              "\n",
              "                                              Review Review_Type  \n",
              "0   Expensive room rate that didn t include parki...  Bad_review  \n",
              "1   Bedroom in the basement No windows Very small...  Bad_review  \n",
              "2                 Room ready for a makeover Location  Bad_review  \n",
              "3   Firstly the lady at the check in desk was qui...  Bad_review  \n",
              "4   Not being able to park my vehicle due to the ...  Bad_review  "
            ],
            "text/html": [
              "\n",
              "  <div id=\"df-e37ccbf6-fb97-435f-9f33-4414023abbb5\" class=\"colab-df-container\">\n",
              "    <div>\n",
              "<style scoped>\n",
              "    .dataframe tbody tr th:only-of-type {\n",
              "        vertical-align: middle;\n",
              "    }\n",
              "\n",
              "    .dataframe tbody tr th {\n",
              "        vertical-align: top;\n",
              "    }\n",
              "\n",
              "    .dataframe thead th {\n",
              "        text-align: right;\n",
              "    }\n",
              "</style>\n",
              "<table border=\"1\" class=\"dataframe\">\n",
              "  <thead>\n",
              "    <tr style=\"text-align: right;\">\n",
              "      <th></th>\n",
              "      <th>Hotel_Address</th>\n",
              "      <th>Review_Date</th>\n",
              "      <th>Average_Score</th>\n",
              "      <th>Hotel_Name</th>\n",
              "      <th>Reviewer_Nationality</th>\n",
              "      <th>Hotel_number_reviews</th>\n",
              "      <th>Reviewer_number_reviews</th>\n",
              "      <th>Review_Score</th>\n",
              "      <th>Review</th>\n",
              "      <th>Review_Type</th>\n",
              "    </tr>\n",
              "  </thead>\n",
              "  <tbody>\n",
              "    <tr>\n",
              "      <th>0</th>\n",
              "      <td>Scarsdale Scarsdale Place Kensington Kensingto...</td>\n",
              "      <td>5/2/2017</td>\n",
              "      <td>8.1</td>\n",
              "      <td>Copthorne Tara Hotel London Kensington</td>\n",
              "      <td>United Kingdom</td>\n",
              "      <td>7105</td>\n",
              "      <td>2</td>\n",
              "      <td>6.7</td>\n",
              "      <td>Expensive room rate that didn t include parki...</td>\n",
              "      <td>Bad_review</td>\n",
              "    </tr>\n",
              "    <tr>\n",
              "      <th>1</th>\n",
              "      <td>53 53 59 Kilburn High Road Maida Vale London C...</td>\n",
              "      <td>8/4/2016</td>\n",
              "      <td>7.1</td>\n",
              "      <td>BEST WESTERN Maitrise Hotel Maida Vale</td>\n",
              "      <td>United Kingdom</td>\n",
              "      <td>1877</td>\n",
              "      <td>8</td>\n",
              "      <td>5.8</td>\n",
              "      <td>Bedroom in the basement No windows Very small...</td>\n",
              "      <td>Bad_review</td>\n",
              "    </tr>\n",
              "    <tr>\n",
              "      <th>2</th>\n",
              "      <td>Pelai Pelai 28 Ciutat Vella 08002 Barcelona Spain</td>\n",
              "      <td>11/17/2016</td>\n",
              "      <td>8.6</td>\n",
              "      <td>Catalonia Ramblas 4 Sup</td>\n",
              "      <td>United Kingdom</td>\n",
              "      <td>4276</td>\n",
              "      <td>2</td>\n",
              "      <td>6.3</td>\n",
              "      <td>Room ready for a makeover Location</td>\n",
              "      <td>Bad_review</td>\n",
              "    </tr>\n",
              "    <tr>\n",
              "      <th>3</th>\n",
              "      <td>3 3 Place du G n ral Koenig 17th arr 75017 Par...</td>\n",
              "      <td>2/4/2016</td>\n",
              "      <td>7.1</td>\n",
              "      <td>Hyatt Regency Paris Etoile</td>\n",
              "      <td>United Kingdom</td>\n",
              "      <td>3973</td>\n",
              "      <td>3</td>\n",
              "      <td>5.8</td>\n",
              "      <td>Firstly the lady at the check in desk was qui...</td>\n",
              "      <td>Bad_review</td>\n",
              "    </tr>\n",
              "    <tr>\n",
              "      <th>4</th>\n",
              "      <td>Epping Epping Forest 30 Oak Hill London IG8 9N...</td>\n",
              "      <td>7/27/2016</td>\n",
              "      <td>7.5</td>\n",
              "      <td>Best Western PLUS Epping Forest</td>\n",
              "      <td>United Kingdom</td>\n",
              "      <td>587</td>\n",
              "      <td>7</td>\n",
              "      <td>3.3</td>\n",
              "      <td>Not being able to park my vehicle due to the ...</td>\n",
              "      <td>Bad_review</td>\n",
              "    </tr>\n",
              "  </tbody>\n",
              "</table>\n",
              "</div>\n",
              "    <div class=\"colab-df-buttons\">\n",
              "\n",
              "  <div class=\"colab-df-container\">\n",
              "    <button class=\"colab-df-convert\" onclick=\"convertToInteractive('df-e37ccbf6-fb97-435f-9f33-4414023abbb5')\"\n",
              "            title=\"Convert this dataframe to an interactive table.\"\n",
              "            style=\"display:none;\">\n",
              "\n",
              "  <svg xmlns=\"http://www.w3.org/2000/svg\" height=\"24px\" viewBox=\"0 -960 960 960\">\n",
              "    <path d=\"M120-120v-720h720v720H120Zm60-500h600v-160H180v160Zm220 220h160v-160H400v160Zm0 220h160v-160H400v160ZM180-400h160v-160H180v160Zm440 0h160v-160H620v160ZM180-180h160v-160H180v160Zm440 0h160v-160H620v160Z\"/>\n",
              "  </svg>\n",
              "    </button>\n",
              "\n",
              "  <style>\n",
              "    .colab-df-container {\n",
              "      display:flex;\n",
              "      gap: 12px;\n",
              "    }\n",
              "\n",
              "    .colab-df-convert {\n",
              "      background-color: #E8F0FE;\n",
              "      border: none;\n",
              "      border-radius: 50%;\n",
              "      cursor: pointer;\n",
              "      display: none;\n",
              "      fill: #1967D2;\n",
              "      height: 32px;\n",
              "      padding: 0 0 0 0;\n",
              "      width: 32px;\n",
              "    }\n",
              "\n",
              "    .colab-df-convert:hover {\n",
              "      background-color: #E2EBFA;\n",
              "      box-shadow: 0px 1px 2px rgba(60, 64, 67, 0.3), 0px 1px 3px 1px rgba(60, 64, 67, 0.15);\n",
              "      fill: #174EA6;\n",
              "    }\n",
              "\n",
              "    .colab-df-buttons div {\n",
              "      margin-bottom: 4px;\n",
              "    }\n",
              "\n",
              "    [theme=dark] .colab-df-convert {\n",
              "      background-color: #3B4455;\n",
              "      fill: #D2E3FC;\n",
              "    }\n",
              "\n",
              "    [theme=dark] .colab-df-convert:hover {\n",
              "      background-color: #434B5C;\n",
              "      box-shadow: 0px 1px 3px 1px rgba(0, 0, 0, 0.15);\n",
              "      filter: drop-shadow(0px 1px 2px rgba(0, 0, 0, 0.3));\n",
              "      fill: #FFFFFF;\n",
              "    }\n",
              "  </style>\n",
              "\n",
              "    <script>\n",
              "      const buttonEl =\n",
              "        document.querySelector('#df-e37ccbf6-fb97-435f-9f33-4414023abbb5 button.colab-df-convert');\n",
              "      buttonEl.style.display =\n",
              "        google.colab.kernel.accessAllowed ? 'block' : 'none';\n",
              "\n",
              "      async function convertToInteractive(key) {\n",
              "        const element = document.querySelector('#df-e37ccbf6-fb97-435f-9f33-4414023abbb5');\n",
              "        const dataTable =\n",
              "          await google.colab.kernel.invokeFunction('convertToInteractive',\n",
              "                                                    [key], {});\n",
              "        if (!dataTable) return;\n",
              "\n",
              "        const docLinkHtml = 'Like what you see? Visit the ' +\n",
              "          '<a target=\"_blank\" href=https://colab.research.google.com/notebooks/data_table.ipynb>data table notebook</a>'\n",
              "          + ' to learn more about interactive tables.';\n",
              "        element.innerHTML = '';\n",
              "        dataTable['output_type'] = 'display_data';\n",
              "        await google.colab.output.renderOutput(dataTable, element);\n",
              "        const docLink = document.createElement('div');\n",
              "        docLink.innerHTML = docLinkHtml;\n",
              "        element.appendChild(docLink);\n",
              "      }\n",
              "    </script>\n",
              "  </div>\n",
              "\n",
              "\n",
              "    <div id=\"df-6dfc24ec-438d-4763-8097-0523780a663b\">\n",
              "      <button class=\"colab-df-quickchart\" onclick=\"quickchart('df-6dfc24ec-438d-4763-8097-0523780a663b')\"\n",
              "                title=\"Suggest charts\"\n",
              "                style=\"display:none;\">\n",
              "\n",
              "<svg xmlns=\"http://www.w3.org/2000/svg\" height=\"24px\"viewBox=\"0 0 24 24\"\n",
              "     width=\"24px\">\n",
              "    <g>\n",
              "        <path d=\"M19 3H5c-1.1 0-2 .9-2 2v14c0 1.1.9 2 2 2h14c1.1 0 2-.9 2-2V5c0-1.1-.9-2-2-2zM9 17H7v-7h2v7zm4 0h-2V7h2v10zm4 0h-2v-4h2v4z\"/>\n",
              "    </g>\n",
              "</svg>\n",
              "      </button>\n",
              "\n",
              "<style>\n",
              "  .colab-df-quickchart {\n",
              "      --bg-color: #E8F0FE;\n",
              "      --fill-color: #1967D2;\n",
              "      --hover-bg-color: #E2EBFA;\n",
              "      --hover-fill-color: #174EA6;\n",
              "      --disabled-fill-color: #AAA;\n",
              "      --disabled-bg-color: #DDD;\n",
              "  }\n",
              "\n",
              "  [theme=dark] .colab-df-quickchart {\n",
              "      --bg-color: #3B4455;\n",
              "      --fill-color: #D2E3FC;\n",
              "      --hover-bg-color: #434B5C;\n",
              "      --hover-fill-color: #FFFFFF;\n",
              "      --disabled-bg-color: #3B4455;\n",
              "      --disabled-fill-color: #666;\n",
              "  }\n",
              "\n",
              "  .colab-df-quickchart {\n",
              "    background-color: var(--bg-color);\n",
              "    border: none;\n",
              "    border-radius: 50%;\n",
              "    cursor: pointer;\n",
              "    display: none;\n",
              "    fill: var(--fill-color);\n",
              "    height: 32px;\n",
              "    padding: 0;\n",
              "    width: 32px;\n",
              "  }\n",
              "\n",
              "  .colab-df-quickchart:hover {\n",
              "    background-color: var(--hover-bg-color);\n",
              "    box-shadow: 0 1px 2px rgba(60, 64, 67, 0.3), 0 1px 3px 1px rgba(60, 64, 67, 0.15);\n",
              "    fill: var(--button-hover-fill-color);\n",
              "  }\n",
              "\n",
              "  .colab-df-quickchart-complete:disabled,\n",
              "  .colab-df-quickchart-complete:disabled:hover {\n",
              "    background-color: var(--disabled-bg-color);\n",
              "    fill: var(--disabled-fill-color);\n",
              "    box-shadow: none;\n",
              "  }\n",
              "\n",
              "  .colab-df-spinner {\n",
              "    border: 2px solid var(--fill-color);\n",
              "    border-color: transparent;\n",
              "    border-bottom-color: var(--fill-color);\n",
              "    animation:\n",
              "      spin 1s steps(1) infinite;\n",
              "  }\n",
              "\n",
              "  @keyframes spin {\n",
              "    0% {\n",
              "      border-color: transparent;\n",
              "      border-bottom-color: var(--fill-color);\n",
              "      border-left-color: var(--fill-color);\n",
              "    }\n",
              "    20% {\n",
              "      border-color: transparent;\n",
              "      border-left-color: var(--fill-color);\n",
              "      border-top-color: var(--fill-color);\n",
              "    }\n",
              "    30% {\n",
              "      border-color: transparent;\n",
              "      border-left-color: var(--fill-color);\n",
              "      border-top-color: var(--fill-color);\n",
              "      border-right-color: var(--fill-color);\n",
              "    }\n",
              "    40% {\n",
              "      border-color: transparent;\n",
              "      border-right-color: var(--fill-color);\n",
              "      border-top-color: var(--fill-color);\n",
              "    }\n",
              "    60% {\n",
              "      border-color: transparent;\n",
              "      border-right-color: var(--fill-color);\n",
              "    }\n",
              "    80% {\n",
              "      border-color: transparent;\n",
              "      border-right-color: var(--fill-color);\n",
              "      border-bottom-color: var(--fill-color);\n",
              "    }\n",
              "    90% {\n",
              "      border-color: transparent;\n",
              "      border-bottom-color: var(--fill-color);\n",
              "    }\n",
              "  }\n",
              "</style>\n",
              "\n",
              "      <script>\n",
              "        async function quickchart(key) {\n",
              "          const quickchartButtonEl =\n",
              "            document.querySelector('#' + key + ' button');\n",
              "          quickchartButtonEl.disabled = true;  // To prevent multiple clicks.\n",
              "          quickchartButtonEl.classList.add('colab-df-spinner');\n",
              "          try {\n",
              "            const charts = await google.colab.kernel.invokeFunction(\n",
              "                'suggestCharts', [key], {});\n",
              "          } catch (error) {\n",
              "            console.error('Error during call to suggestCharts:', error);\n",
              "          }\n",
              "          quickchartButtonEl.classList.remove('colab-df-spinner');\n",
              "          quickchartButtonEl.classList.add('colab-df-quickchart-complete');\n",
              "        }\n",
              "        (() => {\n",
              "          let quickchartButtonEl =\n",
              "            document.querySelector('#df-6dfc24ec-438d-4763-8097-0523780a663b button');\n",
              "          quickchartButtonEl.style.display =\n",
              "            google.colab.kernel.accessAllowed ? 'block' : 'none';\n",
              "        })();\n",
              "      </script>\n",
              "    </div>\n",
              "\n",
              "    </div>\n",
              "  </div>\n"
            ],
            "application/vnd.google.colaboratory.intrinsic+json": {
              "type": "dataframe",
              "variable_name": "df",
              "summary": "{\n  \"name\": \"df\",\n  \"rows\": 13772,\n  \"fields\": [\n    {\n      \"column\": \"Hotel_Address\",\n      \"properties\": {\n        \"dtype\": \"category\",\n        \"num_unique_values\": 1367,\n        \"samples\": [\n          \"Avenida Avenida Diagonal 201 Sant Mart 08018 Barcelona Spain\",\n          \"Singerstra Singerstra e 3 01 Innere Stadt 1010 Vienna Austria\",\n          \"14 14 16 Craven Hill Lancaster Gate Westminster Borough London W2 3DU UK\"\n        ],\n        \"semantic_type\": \"\",\n        \"description\": \"\"\n      }\n    },\n    {\n      \"column\": \"Review_Date\",\n      \"properties\": {\n        \"dtype\": \"object\",\n        \"num_unique_values\": 730,\n        \"samples\": [\n          \"4/26/2017\",\n          \"11/11/2016\",\n          \"5/20/2016\"\n        ],\n        \"semantic_type\": \"\",\n        \"description\": \"\"\n      }\n    },\n    {\n      \"column\": \"Average_Score\",\n      \"properties\": {\n        \"dtype\": \"number\",\n        \"std\": 0.5828092400191714,\n        \"min\": 5.2,\n        \"max\": 9.6,\n        \"num_unique_values\": 33,\n        \"samples\": [\n          5.2,\n          8.8,\n          6.8\n        ],\n        \"semantic_type\": \"\",\n        \"description\": \"\"\n      }\n    },\n    {\n      \"column\": \"Hotel_Name\",\n      \"properties\": {\n        \"dtype\": \"category\",\n        \"num_unique_values\": 1366,\n        \"samples\": [\n          \"The Guesthouse Vienna\",\n          \"Chambiges Elys es\",\n          \"La Suite West Hyde Park\"\n        ],\n        \"semantic_type\": \"\",\n        \"description\": \"\"\n      }\n    },\n    {\n      \"column\": \"Reviewer_Nationality\",\n      \"properties\": {\n        \"dtype\": \"category\",\n        \"num_unique_values\": 148,\n        \"samples\": [\n          \" Moldova \",\n          \" Jersey \",\n          \" Rwanda \"\n        ],\n        \"semantic_type\": \"\",\n        \"description\": \"\"\n      }\n    },\n    {\n      \"column\": \"Hotel_number_reviews\",\n      \"properties\": {\n        \"dtype\": \"number\",\n        \"std\": 2388,\n        \"min\": 43,\n        \"max\": 16670,\n        \"num_unique_values\": 1085,\n        \"samples\": [\n          1744,\n          1018,\n          851\n        ],\n        \"semantic_type\": \"\",\n        \"description\": \"\"\n      }\n    },\n    {\n      \"column\": \"Reviewer_number_reviews\",\n      \"properties\": {\n        \"dtype\": \"number\",\n        \"std\": 10,\n        \"min\": 1,\n        \"max\": 211,\n        \"num_unique_values\": 94,\n        \"samples\": [\n          31,\n          17,\n          56\n        ],\n        \"semantic_type\": \"\",\n        \"description\": \"\"\n      }\n    },\n    {\n      \"column\": \"Review_Score\",\n      \"properties\": {\n        \"dtype\": \"number\",\n        \"std\": 2.059654194003901,\n        \"min\": 2.5,\n        \"max\": 10.0,\n        \"num_unique_values\": 34,\n        \"samples\": [\n          5.5,\n          6.9,\n          7.5\n        ],\n        \"semantic_type\": \"\",\n        \"description\": \"\"\n      }\n    },\n    {\n      \"column\": \"Review\",\n      \"properties\": {\n        \"dtype\": \"string\",\n        \"num_unique_values\": 13076,\n        \"samples\": [\n          \" Clean smart\",\n          \" nothing great location\",\n          \" The design of the room the comfort\"\n        ],\n        \"semantic_type\": \"\",\n        \"description\": \"\"\n      }\n    },\n    {\n      \"column\": \"Review_Type\",\n      \"properties\": {\n        \"dtype\": \"category\",\n        \"num_unique_values\": 2,\n        \"samples\": [\n          \"Good_review\",\n          \"Bad_review\"\n        ],\n        \"semantic_type\": \"\",\n        \"description\": \"\"\n      }\n    }\n  ]\n}"
            }
          },
          "metadata": {},
          "execution_count": 6
        }
      ]
    },
    {
      "cell_type": "code",
      "metadata": {
        "source_hash": "85665f99",
        "execution_start": 1751039044284,
        "execution_millis": 0,
        "execution_context_id": "2bb7d26d-6008-42d6-a392-1d486e162e53",
        "cell_id": "843495134478456dba123ea413575812",
        "deepnote_cell_type": "code",
        "colab": {
          "base_uri": "https://localhost:8080/",
          "height": 0
        },
        "id": "AGy2UJiQmBZ4",
        "outputId": "7cc0f093-0bb6-4187-ec08-f1ceb25c33b3"
      },
      "source": [
        "print(f\"dataset shape: {df.shape[0]} rows, {df.shape[1]} columns\")"
      ],
      "execution_count": 7,
      "outputs": [
        {
          "output_type": "stream",
          "name": "stdout",
          "text": [
            "dataset shape: 13772 rows, 10 columns\n"
          ]
        }
      ]
    },
    {
      "cell_type": "code",
      "metadata": {
        "source_hash": "739de02d",
        "execution_start": 1751039044344,
        "execution_millis": 1,
        "execution_context_id": "2bb7d26d-6008-42d6-a392-1d486e162e53",
        "cell_id": "0220c9adc9244b4e81577a73e39db447",
        "deepnote_cell_type": "code",
        "colab": {
          "base_uri": "https://localhost:8080/",
          "height": 0
        },
        "id": "0wnmUP7ymBZ4",
        "outputId": "6a741267-ab8b-4d7d-b63b-d5e0c53a2df1"
      },
      "source": [
        "print(\"columns names:\")\n",
        "df.columns.tolist()"
      ],
      "execution_count": 8,
      "outputs": [
        {
          "output_type": "stream",
          "name": "stdout",
          "text": [
            "columns names:\n"
          ]
        },
        {
          "output_type": "execute_result",
          "data": {
            "text/plain": [
              "['Hotel_Address',\n",
              " 'Review_Date',\n",
              " 'Average_Score',\n",
              " 'Hotel_Name',\n",
              " 'Reviewer_Nationality',\n",
              " 'Hotel_number_reviews',\n",
              " 'Reviewer_number_reviews',\n",
              " 'Review_Score',\n",
              " 'Review',\n",
              " 'Review_Type']"
            ]
          },
          "metadata": {},
          "execution_count": 8
        }
      ]
    },
    {
      "cell_type": "code",
      "metadata": {
        "source_hash": "455ed966",
        "execution_start": 1751039044454,
        "execution_millis": 0,
        "execution_context_id": "2bb7d26d-6008-42d6-a392-1d486e162e53",
        "cell_id": "115c9263e5b44521b63d61a8513832c1",
        "deepnote_cell_type": "code",
        "colab": {
          "base_uri": "https://localhost:8080/",
          "height": 0
        },
        "id": "2RybhmNZmBZ5",
        "outputId": "1e94cf30-f2b4-4fab-cd50-09da6cc72600"
      },
      "source": [
        "print(\"information on the dataset:\")\n",
        "df.info()"
      ],
      "execution_count": 9,
      "outputs": [
        {
          "output_type": "stream",
          "name": "stdout",
          "text": [
            "information on the dataset:\n",
            "<class 'pandas.core.frame.DataFrame'>\n",
            "RangeIndex: 13772 entries, 0 to 13771\n",
            "Data columns (total 10 columns):\n",
            " #   Column                   Non-Null Count  Dtype  \n",
            "---  ------                   --------------  -----  \n",
            " 0   Hotel_Address            13772 non-null  object \n",
            " 1   Review_Date              13772 non-null  object \n",
            " 2   Average_Score            13772 non-null  float64\n",
            " 3   Hotel_Name               13772 non-null  object \n",
            " 4   Reviewer_Nationality     13772 non-null  object \n",
            " 5   Hotel_number_reviews     13772 non-null  int64  \n",
            " 6   Reviewer_number_reviews  13772 non-null  int64  \n",
            " 7   Review_Score             13772 non-null  float64\n",
            " 8   Review                   13772 non-null  object \n",
            " 9   Review_Type              13772 non-null  object \n",
            "dtypes: float64(2), int64(2), object(6)\n",
            "memory usage: 1.1+ MB\n"
          ]
        }
      ]
    },
    {
      "cell_type": "code",
      "metadata": {
        "source_hash": "4c5d2a0a",
        "execution_start": 1751039044504,
        "execution_millis": 1,
        "execution_context_id": "2bb7d26d-6008-42d6-a392-1d486e162e53",
        "cell_id": "28d6ee8bdbf04a449bd624b57029f444",
        "deepnote_cell_type": "code",
        "colab": {
          "base_uri": "https://localhost:8080/",
          "height": 318
        },
        "id": "09WJ9AHImBZ5",
        "outputId": "d78f9bd3-1975-4fa8-c7cc-d1488fd11cbe"
      },
      "source": [
        "print(\"descriptive statistics:\")\n",
        "df.describe()"
      ],
      "execution_count": 10,
      "outputs": [
        {
          "output_type": "stream",
          "name": "stdout",
          "text": [
            "descriptive statistics:\n"
          ]
        },
        {
          "output_type": "execute_result",
          "data": {
            "text/plain": [
              "       Average_Score  Hotel_number_reviews  Reviewer_number_reviews  \\\n",
              "count   13772.000000          13772.000000             13772.000000   \n",
              "mean        8.257907           2851.855940                 6.711952   \n",
              "std         0.582809           2388.518859                10.100721   \n",
              "min         5.200000             43.000000                 1.000000   \n",
              "25%         7.900000           1200.000000                 1.000000   \n",
              "50%         8.300000           2215.000000                 3.000000   \n",
              "75%         8.700000           3802.000000                 8.000000   \n",
              "max         9.600000          16670.000000               211.000000   \n",
              "\n",
              "       Review_Score  \n",
              "count  13772.000000  \n",
              "mean       7.241258  \n",
              "std        2.059654  \n",
              "min        2.500000  \n",
              "25%        5.800000  \n",
              "50%        6.700000  \n",
              "75%        9.200000  \n",
              "max       10.000000  "
            ],
            "text/html": [
              "\n",
              "  <div id=\"df-41628687-be2b-49ad-9bc3-89d4adab0b68\" class=\"colab-df-container\">\n",
              "    <div>\n",
              "<style scoped>\n",
              "    .dataframe tbody tr th:only-of-type {\n",
              "        vertical-align: middle;\n",
              "    }\n",
              "\n",
              "    .dataframe tbody tr th {\n",
              "        vertical-align: top;\n",
              "    }\n",
              "\n",
              "    .dataframe thead th {\n",
              "        text-align: right;\n",
              "    }\n",
              "</style>\n",
              "<table border=\"1\" class=\"dataframe\">\n",
              "  <thead>\n",
              "    <tr style=\"text-align: right;\">\n",
              "      <th></th>\n",
              "      <th>Average_Score</th>\n",
              "      <th>Hotel_number_reviews</th>\n",
              "      <th>Reviewer_number_reviews</th>\n",
              "      <th>Review_Score</th>\n",
              "    </tr>\n",
              "  </thead>\n",
              "  <tbody>\n",
              "    <tr>\n",
              "      <th>count</th>\n",
              "      <td>13772.000000</td>\n",
              "      <td>13772.000000</td>\n",
              "      <td>13772.000000</td>\n",
              "      <td>13772.000000</td>\n",
              "    </tr>\n",
              "    <tr>\n",
              "      <th>mean</th>\n",
              "      <td>8.257907</td>\n",
              "      <td>2851.855940</td>\n",
              "      <td>6.711952</td>\n",
              "      <td>7.241258</td>\n",
              "    </tr>\n",
              "    <tr>\n",
              "      <th>std</th>\n",
              "      <td>0.582809</td>\n",
              "      <td>2388.518859</td>\n",
              "      <td>10.100721</td>\n",
              "      <td>2.059654</td>\n",
              "    </tr>\n",
              "    <tr>\n",
              "      <th>min</th>\n",
              "      <td>5.200000</td>\n",
              "      <td>43.000000</td>\n",
              "      <td>1.000000</td>\n",
              "      <td>2.500000</td>\n",
              "    </tr>\n",
              "    <tr>\n",
              "      <th>25%</th>\n",
              "      <td>7.900000</td>\n",
              "      <td>1200.000000</td>\n",
              "      <td>1.000000</td>\n",
              "      <td>5.800000</td>\n",
              "    </tr>\n",
              "    <tr>\n",
              "      <th>50%</th>\n",
              "      <td>8.300000</td>\n",
              "      <td>2215.000000</td>\n",
              "      <td>3.000000</td>\n",
              "      <td>6.700000</td>\n",
              "    </tr>\n",
              "    <tr>\n",
              "      <th>75%</th>\n",
              "      <td>8.700000</td>\n",
              "      <td>3802.000000</td>\n",
              "      <td>8.000000</td>\n",
              "      <td>9.200000</td>\n",
              "    </tr>\n",
              "    <tr>\n",
              "      <th>max</th>\n",
              "      <td>9.600000</td>\n",
              "      <td>16670.000000</td>\n",
              "      <td>211.000000</td>\n",
              "      <td>10.000000</td>\n",
              "    </tr>\n",
              "  </tbody>\n",
              "</table>\n",
              "</div>\n",
              "    <div class=\"colab-df-buttons\">\n",
              "\n",
              "  <div class=\"colab-df-container\">\n",
              "    <button class=\"colab-df-convert\" onclick=\"convertToInteractive('df-41628687-be2b-49ad-9bc3-89d4adab0b68')\"\n",
              "            title=\"Convert this dataframe to an interactive table.\"\n",
              "            style=\"display:none;\">\n",
              "\n",
              "  <svg xmlns=\"http://www.w3.org/2000/svg\" height=\"24px\" viewBox=\"0 -960 960 960\">\n",
              "    <path d=\"M120-120v-720h720v720H120Zm60-500h600v-160H180v160Zm220 220h160v-160H400v160Zm0 220h160v-160H400v160ZM180-400h160v-160H180v160Zm440 0h160v-160H620v160ZM180-180h160v-160H180v160Zm440 0h160v-160H620v160Z\"/>\n",
              "  </svg>\n",
              "    </button>\n",
              "\n",
              "  <style>\n",
              "    .colab-df-container {\n",
              "      display:flex;\n",
              "      gap: 12px;\n",
              "    }\n",
              "\n",
              "    .colab-df-convert {\n",
              "      background-color: #E8F0FE;\n",
              "      border: none;\n",
              "      border-radius: 50%;\n",
              "      cursor: pointer;\n",
              "      display: none;\n",
              "      fill: #1967D2;\n",
              "      height: 32px;\n",
              "      padding: 0 0 0 0;\n",
              "      width: 32px;\n",
              "    }\n",
              "\n",
              "    .colab-df-convert:hover {\n",
              "      background-color: #E2EBFA;\n",
              "      box-shadow: 0px 1px 2px rgba(60, 64, 67, 0.3), 0px 1px 3px 1px rgba(60, 64, 67, 0.15);\n",
              "      fill: #174EA6;\n",
              "    }\n",
              "\n",
              "    .colab-df-buttons div {\n",
              "      margin-bottom: 4px;\n",
              "    }\n",
              "\n",
              "    [theme=dark] .colab-df-convert {\n",
              "      background-color: #3B4455;\n",
              "      fill: #D2E3FC;\n",
              "    }\n",
              "\n",
              "    [theme=dark] .colab-df-convert:hover {\n",
              "      background-color: #434B5C;\n",
              "      box-shadow: 0px 1px 3px 1px rgba(0, 0, 0, 0.15);\n",
              "      filter: drop-shadow(0px 1px 2px rgba(0, 0, 0, 0.3));\n",
              "      fill: #FFFFFF;\n",
              "    }\n",
              "  </style>\n",
              "\n",
              "    <script>\n",
              "      const buttonEl =\n",
              "        document.querySelector('#df-41628687-be2b-49ad-9bc3-89d4adab0b68 button.colab-df-convert');\n",
              "      buttonEl.style.display =\n",
              "        google.colab.kernel.accessAllowed ? 'block' : 'none';\n",
              "\n",
              "      async function convertToInteractive(key) {\n",
              "        const element = document.querySelector('#df-41628687-be2b-49ad-9bc3-89d4adab0b68');\n",
              "        const dataTable =\n",
              "          await google.colab.kernel.invokeFunction('convertToInteractive',\n",
              "                                                    [key], {});\n",
              "        if (!dataTable) return;\n",
              "\n",
              "        const docLinkHtml = 'Like what you see? Visit the ' +\n",
              "          '<a target=\"_blank\" href=https://colab.research.google.com/notebooks/data_table.ipynb>data table notebook</a>'\n",
              "          + ' to learn more about interactive tables.';\n",
              "        element.innerHTML = '';\n",
              "        dataTable['output_type'] = 'display_data';\n",
              "        await google.colab.output.renderOutput(dataTable, element);\n",
              "        const docLink = document.createElement('div');\n",
              "        docLink.innerHTML = docLinkHtml;\n",
              "        element.appendChild(docLink);\n",
              "      }\n",
              "    </script>\n",
              "  </div>\n",
              "\n",
              "\n",
              "    <div id=\"df-dd1b269d-7b81-418f-a5dc-61f8ee11065a\">\n",
              "      <button class=\"colab-df-quickchart\" onclick=\"quickchart('df-dd1b269d-7b81-418f-a5dc-61f8ee11065a')\"\n",
              "                title=\"Suggest charts\"\n",
              "                style=\"display:none;\">\n",
              "\n",
              "<svg xmlns=\"http://www.w3.org/2000/svg\" height=\"24px\"viewBox=\"0 0 24 24\"\n",
              "     width=\"24px\">\n",
              "    <g>\n",
              "        <path d=\"M19 3H5c-1.1 0-2 .9-2 2v14c0 1.1.9 2 2 2h14c1.1 0 2-.9 2-2V5c0-1.1-.9-2-2-2zM9 17H7v-7h2v7zm4 0h-2V7h2v10zm4 0h-2v-4h2v4z\"/>\n",
              "    </g>\n",
              "</svg>\n",
              "      </button>\n",
              "\n",
              "<style>\n",
              "  .colab-df-quickchart {\n",
              "      --bg-color: #E8F0FE;\n",
              "      --fill-color: #1967D2;\n",
              "      --hover-bg-color: #E2EBFA;\n",
              "      --hover-fill-color: #174EA6;\n",
              "      --disabled-fill-color: #AAA;\n",
              "      --disabled-bg-color: #DDD;\n",
              "  }\n",
              "\n",
              "  [theme=dark] .colab-df-quickchart {\n",
              "      --bg-color: #3B4455;\n",
              "      --fill-color: #D2E3FC;\n",
              "      --hover-bg-color: #434B5C;\n",
              "      --hover-fill-color: #FFFFFF;\n",
              "      --disabled-bg-color: #3B4455;\n",
              "      --disabled-fill-color: #666;\n",
              "  }\n",
              "\n",
              "  .colab-df-quickchart {\n",
              "    background-color: var(--bg-color);\n",
              "    border: none;\n",
              "    border-radius: 50%;\n",
              "    cursor: pointer;\n",
              "    display: none;\n",
              "    fill: var(--fill-color);\n",
              "    height: 32px;\n",
              "    padding: 0;\n",
              "    width: 32px;\n",
              "  }\n",
              "\n",
              "  .colab-df-quickchart:hover {\n",
              "    background-color: var(--hover-bg-color);\n",
              "    box-shadow: 0 1px 2px rgba(60, 64, 67, 0.3), 0 1px 3px 1px rgba(60, 64, 67, 0.15);\n",
              "    fill: var(--button-hover-fill-color);\n",
              "  }\n",
              "\n",
              "  .colab-df-quickchart-complete:disabled,\n",
              "  .colab-df-quickchart-complete:disabled:hover {\n",
              "    background-color: var(--disabled-bg-color);\n",
              "    fill: var(--disabled-fill-color);\n",
              "    box-shadow: none;\n",
              "  }\n",
              "\n",
              "  .colab-df-spinner {\n",
              "    border: 2px solid var(--fill-color);\n",
              "    border-color: transparent;\n",
              "    border-bottom-color: var(--fill-color);\n",
              "    animation:\n",
              "      spin 1s steps(1) infinite;\n",
              "  }\n",
              "\n",
              "  @keyframes spin {\n",
              "    0% {\n",
              "      border-color: transparent;\n",
              "      border-bottom-color: var(--fill-color);\n",
              "      border-left-color: var(--fill-color);\n",
              "    }\n",
              "    20% {\n",
              "      border-color: transparent;\n",
              "      border-left-color: var(--fill-color);\n",
              "      border-top-color: var(--fill-color);\n",
              "    }\n",
              "    30% {\n",
              "      border-color: transparent;\n",
              "      border-left-color: var(--fill-color);\n",
              "      border-top-color: var(--fill-color);\n",
              "      border-right-color: var(--fill-color);\n",
              "    }\n",
              "    40% {\n",
              "      border-color: transparent;\n",
              "      border-right-color: var(--fill-color);\n",
              "      border-top-color: var(--fill-color);\n",
              "    }\n",
              "    60% {\n",
              "      border-color: transparent;\n",
              "      border-right-color: var(--fill-color);\n",
              "    }\n",
              "    80% {\n",
              "      border-color: transparent;\n",
              "      border-right-color: var(--fill-color);\n",
              "      border-bottom-color: var(--fill-color);\n",
              "    }\n",
              "    90% {\n",
              "      border-color: transparent;\n",
              "      border-bottom-color: var(--fill-color);\n",
              "    }\n",
              "  }\n",
              "</style>\n",
              "\n",
              "      <script>\n",
              "        async function quickchart(key) {\n",
              "          const quickchartButtonEl =\n",
              "            document.querySelector('#' + key + ' button');\n",
              "          quickchartButtonEl.disabled = true;  // To prevent multiple clicks.\n",
              "          quickchartButtonEl.classList.add('colab-df-spinner');\n",
              "          try {\n",
              "            const charts = await google.colab.kernel.invokeFunction(\n",
              "                'suggestCharts', [key], {});\n",
              "          } catch (error) {\n",
              "            console.error('Error during call to suggestCharts:', error);\n",
              "          }\n",
              "          quickchartButtonEl.classList.remove('colab-df-spinner');\n",
              "          quickchartButtonEl.classList.add('colab-df-quickchart-complete');\n",
              "        }\n",
              "        (() => {\n",
              "          let quickchartButtonEl =\n",
              "            document.querySelector('#df-dd1b269d-7b81-418f-a5dc-61f8ee11065a button');\n",
              "          quickchartButtonEl.style.display =\n",
              "            google.colab.kernel.accessAllowed ? 'block' : 'none';\n",
              "        })();\n",
              "      </script>\n",
              "    </div>\n",
              "\n",
              "    </div>\n",
              "  </div>\n"
            ],
            "application/vnd.google.colaboratory.intrinsic+json": {
              "type": "dataframe",
              "summary": "{\n  \"name\": \"df\",\n  \"rows\": 8,\n  \"fields\": [\n    {\n      \"column\": \"Average_Score\",\n      \"properties\": {\n        \"dtype\": \"number\",\n        \"std\": 4866.686471898823,\n        \"min\": 0.5828092400191714,\n        \"max\": 13772.0,\n        \"num_unique_values\": 8,\n        \"samples\": [\n          8.257907348242812,\n          8.3,\n          13772.0\n        ],\n        \"semantic_type\": \"\",\n        \"description\": \"\"\n      }\n    },\n    {\n      \"column\": \"Hotel_number_reviews\",\n      \"properties\": {\n        \"dtype\": \"number\",\n        \"std\": 6230.023188121568,\n        \"min\": 43.0,\n        \"max\": 16670.0,\n        \"num_unique_values\": 8,\n        \"samples\": [\n          2851.855939587569,\n          2215.0,\n          13772.0\n        ],\n        \"semantic_type\": \"\",\n        \"description\": \"\"\n      }\n    },\n    {\n      \"column\": \"Reviewer_number_reviews\",\n      \"properties\": {\n        \"dtype\": \"number\",\n        \"std\": 4857.5105646401735,\n        \"min\": 1.0,\n        \"max\": 13772.0,\n        \"num_unique_values\": 7,\n        \"samples\": [\n          13772.0,\n          6.7119517862329365,\n          8.0\n        ],\n        \"semantic_type\": \"\",\n        \"description\": \"\"\n      }\n    },\n    {\n      \"column\": \"Review_Score\",\n      \"properties\": {\n        \"dtype\": \"number\",\n        \"std\": 4866.940985838336,\n        \"min\": 2.059654194003901,\n        \"max\": 13772.0,\n        \"num_unique_values\": 8,\n        \"samples\": [\n          7.241257624164973,\n          6.7,\n          13772.0\n        ],\n        \"semantic_type\": \"\",\n        \"description\": \"\"\n      }\n    }\n  ]\n}"
            }
          },
          "metadata": {},
          "execution_count": 10
        }
      ]
    },
    {
      "cell_type": "markdown",
      "metadata": {
        "formattedRanges": [],
        "cell_id": "d43162e90c1b4418bc911badc094560d",
        "deepnote_cell_type": "text-cell-h2",
        "id": "CVAXUkFhmBZ5"
      },
      "source": [
        "### **2.a Feature Selection and Dataset Construction**"
      ]
    },
    {
      "cell_type": "markdown",
      "metadata": {
        "formattedRanges": [],
        "cell_id": "f5a216119b2f4f56bc04543a79dc7206",
        "deepnote_cell_type": "text-cell-p",
        "id": "UakJnZFUmBZ5"
      },
      "source": [
        "* Feature Selection\n",
        "\n",
        "I focus only on the most meaningful features: hotel name, review year, hotel number of reviews, and the processed review text.  \n",
        "I deliberately drop hotel address, reviewer nationality, and reviewer number of reviews since they are either redundant or too noisy for this task.  \n",
        "At this point, I keep only what I consider strictly necessary to try to have less noise and easier debugging."
      ]
    },
    {
      "cell_type": "markdown",
      "metadata": {
        "formattedRanges": [],
        "cell_id": "d333984bdabe48699833d94168d1b99d",
        "deepnote_cell_type": "text-cell-h3",
        "id": "cb_BS_p7mBZ6"
      },
      "source": [
        "* Analysis of the Target Variables\n",
        "\n"
      ]
    },
    {
      "cell_type": "code",
      "metadata": {
        "source_hash": "6221c684",
        "execution_start": 1751039044564,
        "execution_millis": 0,
        "execution_context_id": "2bb7d26d-6008-42d6-a392-1d486e162e53",
        "cell_id": "e1de2445e0024002ba6d76bf462913c5",
        "deepnote_cell_type": "code",
        "colab": {
          "base_uri": "https://localhost:8080/",
          "height": 0
        },
        "id": "dcHlgtYYmBZ6",
        "outputId": "504882e1-af09-47be-d7c0-decfcdb72996"
      },
      "source": [
        "# Exploration of the target data\n",
        "print(\"\\n1. Review_Type distribution:\")\n",
        "print(df['Review_Type'].value_counts())\n",
        "print(f\"Percentages: \\n{df['Review_Type'].value_counts(normalize=True) * 100}\")\n",
        "\n",
        "print(\"\\n2. Review_Score distribution:\")\n",
        "print(f\"Min: {df['Review_Score'].min()}, Max: {df['Review_Score'].max()}\")\n",
        "print(f\"Mean: {df['Review_Score'].mean():.2f}, Std: {df['Review_Score'].std():.2f}\")"
      ],
      "execution_count": 11,
      "outputs": [
        {
          "output_type": "stream",
          "name": "stdout",
          "text": [
            "\n",
            "1. Review_Type distribution:\n",
            "Review_Type\n",
            "Bad_review     6888\n",
            "Good_review    6884\n",
            "Name: count, dtype: int64\n",
            "Percentages: \n",
            "Review_Type\n",
            "Bad_review     50.014522\n",
            "Good_review    49.985478\n",
            "Name: proportion, dtype: float64\n",
            "\n",
            "2. Review_Score distribution:\n",
            "Min: 2.5, Max: 10.0\n",
            "Mean: 7.24, Std: 2.06\n"
          ]
        }
      ]
    },
    {
      "cell_type": "code",
      "metadata": {
        "source_hash": "9ceed5f0",
        "execution_start": 1751039044624,
        "execution_millis": 328,
        "execution_context_id": "2bb7d26d-6008-42d6-a392-1d486e162e53",
        "cell_id": "e6dd2a5d3e784cacb40dc725f25e28e2",
        "deepnote_cell_type": "code",
        "colab": {
          "base_uri": "https://localhost:8080/",
          "height": 450
        },
        "id": "oCCXv1IYmBZ6",
        "outputId": "c135c035-d2e1-4308-8ecc-255bd677bdec"
      },
      "source": [
        "# Visualizations\n",
        "fig, axes = plt.subplots(1, 3, figsize=(15, 5))\n",
        "\n",
        "# Review_Type distribution\n",
        "df['Review_Type'].value_counts().plot(kind='bar', ax=axes[0], color=['red', 'green'])\n",
        "axes[0].set_title('Review_Type Distribution')\n",
        "axes[0].set_xlabel('Review Type')\n",
        "axes[0].set_ylabel('Frequency')\n",
        "axes[0].tick_params(axis='x', rotation=45)\n",
        "\n",
        "# Review_Score distribution\n",
        "axes[1].hist(df['Review_Score'], bins=20, alpha=0.7, color='blue')\n",
        "axes[1].set_title('Review_Score Distribution')\n",
        "axes[1].set_xlabel('Score')\n",
        "axes[1].set_ylabel('Frequency')\n",
        "\n",
        "# Boxplot Review_Score by Review_Type\n",
        "sns.boxplot(data=df, x='Review_Type', y='Review_Score', ax=axes[2])\n",
        "axes[2].set_title('Review_Score by Review_Type')\n",
        "axes[2].tick_params(axis='x', rotation=45)\n",
        "\n",
        "plt.tight_layout()\n",
        "plt.show()"
      ],
      "execution_count": 12,
      "outputs": [
        {
          "output_type": "display_data",
          "data": {
            "text/plain": [
              "<Figure size 1500x500 with 3 Axes>"
            ],
            "image/png": "[encoded data removed]"
          },
          "metadata": {}
        }
      ]
    },
    {
      "cell_type": "markdown",
      "metadata": {
        "formattedRanges": [],
        "cell_id": "6f2c3436a8a741af83772f0be7f957ba",
        "deepnote_cell_type": "text-cell-h3",
        "id": "_oMPed9LmBZ7"
      },
      "source": [
        "### **2.b Data Preprocessing**"
      ]
    },
    {
      "cell_type": "code",
      "metadata": {
        "source_hash": "82c88d4b",
        "execution_start": 1751039045004,
        "execution_millis": 0,
        "execution_context_id": "2bb7d26d-6008-42d6-a392-1d486e162e53",
        "cell_id": "62d60fb8988343d385cc2faacb69360d",
        "deepnote_cell_type": "code",
        "colab": {
          "base_uri": "https://localhost:8080/",
          "height": 0
        },
        "id": "OHHvHxlcmBZ7",
        "outputId": "5f8c6592-2a72-442a-a027-3d869820ca22"
      },
      "source": [
        "# 1. Date preprocessing - extract only the year\n",
        "print(\"1. Review_Date preprocessing:\")\n",
        "df['Review_Year'] = pd.to_datetime(df['Review_Date']).dt.year\n",
        "print(f\"Available years: {sorted(df['Review_Year'].unique())}\")\n",
        "print(f\"Distribution by year:\\n{df['Review_Year'].value_counts().sort_index()}\")"
      ],
      "execution_count": 13,
      "outputs": [
        {
          "output_type": "stream",
          "name": "stdout",
          "text": [
            "1. Review_Date preprocessing:\n",
            "Available years: [np.int32(2015), np.int32(2016), np.int32(2017)]\n",
            "Distribution by year:\n",
            "Review_Year\n",
            "2015    2653\n",
            "2016    6926\n",
            "2017    4193\n",
            "Name: count, dtype: int64\n"
          ]
        }
      ]
    },
    {
      "cell_type": "code",
      "metadata": {
        "source_hash": "a542b7f4",
        "execution_start": 1751039045064,
        "execution_millis": 1,
        "execution_context_id": "2bb7d26d-6008-42d6-a392-1d486e162e53",
        "cell_id": "830e81a1cd804558bc4aeff25b1ace0c",
        "deepnote_cell_type": "code",
        "colab": {
          "base_uri": "https://localhost:8080/",
          "height": 0
        },
        "id": "YUfHml5vmBZ8",
        "outputId": "5efe17e4-9634-4dae-f52a-7ee4e86ac081"
      },
      "source": [
        "# 2. Target variable encoding for classification\n",
        "print(\"2. Encoding Review_Type:\")\n",
        "# Convert to binary format: Good_review = 1, Bad_review = 0\n",
        "df['Review_Type_Binary'] = (df['Review_Type'] == 'Good_review').astype(int)\n",
        "print(f\"Mapping: Good_review -> 1, Bad_review -> 0\")\n",
        "print(f\"Binary distribution:\\n{df['Review_Type_Binary'].value_counts()}\")"
      ],
      "execution_count": 14,
      "outputs": [
        {
          "output_type": "stream",
          "name": "stdout",
          "text": [
            "2. Encoding Review_Type:\n",
            "Mapping: Good_review -> 1, Bad_review -> 0\n",
            "Binary distribution:\n",
            "Review_Type_Binary\n",
            "0    6888\n",
            "1    6884\n",
            "Name: count, dtype: int64\n"
          ]
        }
      ]
    },
    {
      "cell_type": "markdown",
      "source": [
        "**CHANGE:** During text preprocessing, I set any missing review to an empty string. This wasn’t specified in the written plan, but it prevents errors during tokenization and keeps the pipeline robust.\n"
      ],
      "metadata": {
        "id": "Qvd8TpBPy--p"
      }
    },
    {
      "cell_type": "code",
      "metadata": {
        "source_hash": "5f994bac",
        "execution_start": 1751039045114,
        "execution_millis": 469,
        "execution_context_id": "2bb7d26d-6008-42d6-a392-1d486e162e53",
        "cell_id": "1c534da7299b4e72acf92814e889577f",
        "deepnote_cell_type": "code",
        "colab": {
          "base_uri": "https://localhost:8080/",
          "height": 0
        },
        "id": "h73mFgWBmBZ8",
        "outputId": "f1f5eac6-30d1-495b-e541-7ec3b9fab0f0"
      },
      "source": [
        "# 3. Preprocessing of review text\n",
        "print(\"3. Text preprocessing:\")\n",
        "\n",
        "import nltk\n",
        "from nltk.corpus import stopwords\n",
        "nltk.download('stopwords')\n",
        "stop_words = set(stopwords.words('english'))\n",
        "\n",
        "def preprocess_text(text):\n",
        "    \"\"\"\n",
        "    Text preprocessing for reviews\n",
        "    \"\"\"\n",
        "    # to avoid problems with missing reviews, I turn NaNs into empty strings.\n",
        "    if pd.isna(text):\n",
        "        return \"\"\n",
        "\n",
        "    # Convert to lowercase\n",
        "    text = text.lower()\n",
        "\n",
        "    # Remove punctuation\n",
        "    text = text.translate(str.maketrans('', '', string.punctuation))\n",
        "\n",
        "    # Remove numbers\n",
        "    text = re.sub(r'\\d+', '', text)\n",
        "\n",
        "    # Remove extra spaces\n",
        "    text = ' '.join(text.split())\n",
        "\n",
        "    # Remove stopwords\n",
        "    text = ' '.join([word for word in text.split() if word not in stop_words])\n",
        "\n",
        "    return text\n",
        "\n",
        "# Apply preprocessing to review text\n",
        "df['Review_Processed'] = df['Review'].apply(preprocess_text)\n",
        "\n",
        "# Review length analysis\n",
        "df['Review_Length'] = df['Review_Processed'].str.split().str.len()\n",
        "print(f\"Average review length: {df['Review_Length'].mean():.1f} words\")\n",
        "print(f\"Maximum length: {df['Review_Length'].max()} words\")\n",
        "print(f\"Length percentiles: 25%={df['Review_Length'].quantile(0.25):.0f}, \"\n",
        "      f\"50%={df['Review_Length'].quantile(0.5):.0f}, \"\n",
        "      f\"75%={df['Review_Length'].quantile(0.75):.0f}, \"\n",
        "      f\"95%={df['Review_Length'].quantile(0.95):.0f}\")"
      ],
      "execution_count": 15,
      "outputs": [
        {
          "output_type": "stream",
          "name": "stdout",
          "text": [
            "3. Text preprocessing:\n"
          ]
        },
        {
          "output_type": "stream",
          "name": "stderr",
          "text": [
            "[nltk_data] Downloading package stopwords to /root/nltk_data...\n",
            "[nltk_data]   Unzipping corpora/stopwords.zip.\n"
          ]
        },
        {
          "output_type": "stream",
          "name": "stdout",
          "text": [
            "Average review length: 13.8 words\n",
            "Maximum length: 276 words\n",
            "Length percentiles: 25%=3, 50%=6, 75%=16, 95%=50\n"
          ]
        }
      ]
    },
    {
      "cell_type": "markdown",
      "metadata": {
        "formattedRanges": [],
        "cell_id": "e990eb5e461d4a878cca764e4d276cde",
        "deepnote_cell_type": "text-cell-h3",
        "id": "AIs0IcCvmBZ8"
      },
      "source": [
        "* Creation of the Final Dataset"
      ]
    },
    {
      "cell_type": "code",
      "metadata": {
        "source_hash": "a096f935",
        "execution_start": 1751039045644,
        "execution_millis": 0,
        "execution_context_id": "2bb7d26d-6008-42d6-a392-1d486e162e53",
        "cell_id": "a80b600adb814dd2b1a18b611e2fc80b",
        "deepnote_cell_type": "code",
        "colab": {
          "base_uri": "https://localhost:8080/",
          "height": 0
        },
        "id": "N-lJaxMqmBZ8",
        "outputId": "c2a7eb08-cba0-4268-cfba-7ff01c249c1b"
      },
      "source": [
        "# 4. Feature selection according to my project\n",
        "\n",
        "# Create the final dataset with only the required features\n",
        "# According to my project: 6 total features\n",
        "df_final = pd.DataFrame({\n",
        "    'Hotel_Name': df['Hotel_Name'],\n",
        "    'Review_Year': df['Review_Year'],  # Year extracted from Review_Date\n",
        "    'Hotel_number_reviews': df['Hotel_number_reviews'],\n",
        "    'Review_Text': df['Review_Processed'],  # Preprocessed text\n",
        "    'Review_Score': df['Review_Score'],     # Regression target\n",
        "    'Review_Type_Binary': df['Review_Type_Binary']  # Classification target (0/1)\n",
        "})\n",
        "\n",
        "print(f\"Final dataset shape: {df_final.shape}\")"
      ],
      "execution_count": 16,
      "outputs": [
        {
          "output_type": "stream",
          "name": "stdout",
          "text": [
            "Final dataset shape: (13772, 6)\n"
          ]
        }
      ]
    },
    {
      "cell_type": "code",
      "metadata": {
        "source_hash": "6d1b4ced",
        "execution_start": 1751039045694,
        "execution_millis": 0,
        "execution_context_id": "2bb7d26d-6008-42d6-a392-1d486e162e53",
        "cell_id": "ebcce4b7366f483aa506890aacb387e5",
        "deepnote_cell_type": "code",
        "colab": {
          "base_uri": "https://localhost:8080/",
          "height": 0
        },
        "id": "4rjxRh9emBZ9",
        "outputId": "1ab8a053-65f2-4855-9914-ba00e7a525e2"
      },
      "source": [
        "print(\"Final dataset columns:\")\n",
        "for i, col in enumerate(df_final.columns, 1):\n",
        "    print(f\"{i}. {col}\")"
      ],
      "execution_count": 17,
      "outputs": [
        {
          "output_type": "stream",
          "name": "stdout",
          "text": [
            "Final dataset columns:\n",
            "1. Hotel_Name\n",
            "2. Review_Year\n",
            "3. Hotel_number_reviews\n",
            "4. Review_Text\n",
            "5. Review_Score\n",
            "6. Review_Type_Binary\n"
          ]
        }
      ]
    },
    {
      "cell_type": "code",
      "metadata": {
        "source_hash": "8a4a388f",
        "execution_start": 1751039045794,
        "execution_millis": 0,
        "execution_context_id": "2bb7d26d-6008-42d6-a392-1d486e162e53",
        "cell_id": "348d9b1417324da4adb6a1c7a0b8be39",
        "deepnote_cell_type": "code",
        "colab": {
          "base_uri": "https://localhost:8080/",
          "height": 0
        },
        "id": "G7hIKfOvmBZ9",
        "outputId": "5f327633-460a-45cd-a5ae-65de0672fa4b"
      },
      "source": [
        "print(f\"Final dataset info:\")\n",
        "df_final.info()"
      ],
      "execution_count": 18,
      "outputs": [
        {
          "output_type": "stream",
          "name": "stdout",
          "text": [
            "Final dataset info:\n",
            "<class 'pandas.core.frame.DataFrame'>\n",
            "RangeIndex: 13772 entries, 0 to 13771\n",
            "Data columns (total 6 columns):\n",
            " #   Column                Non-Null Count  Dtype  \n",
            "---  ------                --------------  -----  \n",
            " 0   Hotel_Name            13772 non-null  object \n",
            " 1   Review_Year           13772 non-null  int32  \n",
            " 2   Hotel_number_reviews  13772 non-null  int64  \n",
            " 3   Review_Text           13772 non-null  object \n",
            " 4   Review_Score          13772 non-null  float64\n",
            " 5   Review_Type_Binary    13772 non-null  int64  \n",
            "dtypes: float64(1), int32(1), int64(2), object(2)\n",
            "memory usage: 591.9+ KB\n"
          ]
        }
      ]
    },
    {
      "cell_type": "markdown",
      "metadata": {
        "formattedRanges": [],
        "cell_id": "975ab1bfb7404cb0b4c2134ccb99eee2",
        "deepnote_cell_type": "text-cell-h3",
        "id": "9PZ7vgy-mBZ9"
      },
      "source": [
        "* Final Checks"
      ]
    },
    {
      "cell_type": "code",
      "metadata": {
        "source_hash": "6d705309",
        "execution_start": 1751039045844,
        "execution_millis": 0,
        "execution_context_id": "2bb7d26d-6008-42d6-a392-1d486e162e53",
        "cell_id": "dbe1639915b84eba9881ccf8ad09b602",
        "deepnote_cell_type": "code",
        "colab": {
          "base_uri": "https://localhost:8080/",
          "height": 0
        },
        "id": "MEln33xNmBZ9",
        "outputId": "73202f70-c819-4e2e-86e7-f0fcada90235"
      },
      "source": [
        "# Final check\n",
        "print(f\"Total number of samples: {len(df_final)}\")\n",
        "print(f\"Numerical features: Review_Year, Hotel_number_reviews\")\n",
        "print(f\"Text features: Hotel_Name, Review_Text\")\n",
        "print(f\"Regression target: Review_Score (min={df_final['Review_Score'].min()}, max={df_final['Review_Score'].max()})\")\n",
        "print(f\"Classification target: Review_Type_Binary (0={sum(df_final['Review_Type_Binary']==0)}, 1={sum(df_final['Review_Type_Binary']==1)})\")"
      ],
      "execution_count": 19,
      "outputs": [
        {
          "output_type": "stream",
          "name": "stdout",
          "text": [
            "Total number of samples: 13772\n",
            "Numerical features: Review_Year, Hotel_number_reviews\n",
            "Text features: Hotel_Name, Review_Text\n",
            "Regression target: Review_Score (min=2.5, max=10.0)\n",
            "Classification target: Review_Type_Binary (0=6888, 1=6884)\n"
          ]
        }
      ]
    },
    {
      "cell_type": "markdown",
      "metadata": {
        "formattedRanges": [],
        "cell_id": "5255a502af7d4a9c863d8811eca37c51",
        "deepnote_cell_type": "text-cell-h3",
        "id": "ECwlPLaCmBZ-"
      },
      "source": [
        "* Parameters for LSTM"
      ]
    },
    {
      "cell_type": "code",
      "metadata": {
        "source_hash": "2103b028",
        "execution_start": 1751039045894,
        "execution_millis": 0,
        "execution_context_id": "2bb7d26d-6008-42d6-a392-1d486e162e53",
        "cell_id": "5f8f4645587041dab77930353dd4c40a",
        "deepnote_cell_type": "code",
        "colab": {
          "base_uri": "https://localhost:8080/",
          "height": 0
        },
        "id": "nxMRC8X7mBZ-",
        "outputId": "e727653d-5e4e-4345-b52b-6b83c7db9ba5"
      },
      "source": [
        "# Sequence length statistics (important for LSTM)\n",
        "print(f\"Average review length: {df['Review_Length'].mean():.1f} words\")\n",
        "print(f\"Recommended sequence_length: {int(df['Review_Length'].quantile(0.95))} words (95th percentile)\")\n",
        "print(f\"Maximum length found: {df['Review_Length'].max()} words\")\n",
        "\n",
        "# Approximate vocabulary size\n",
        "all_text = ' '.join(df_final['Review_Text'].astype(str) + ' ' + df_final['Hotel_Name'].astype(str))\n",
        "vocab_size_approx = len(set(all_text.split()))\n",
        "print(f\"Approximate vocabulary size: {vocab_size_approx} unique words\")"
      ],
      "execution_count": 20,
      "outputs": [
        {
          "output_type": "stream",
          "name": "stdout",
          "text": [
            "Average review length: 13.8 words\n",
            "Recommended sequence_length: 50 words (95th percentile)\n",
            "Maximum length found: 276 words\n",
            "Approximate vocabulary size: 12817 unique words\n"
          ]
        }
      ]
    },
    {
      "cell_type": "markdown",
      "metadata": {
        "formattedRanges": [],
        "cell_id": "27abd62fc5a54fa9ab67252bb51d1742",
        "deepnote_cell_type": "text-cell-h3",
        "id": "OSZoNMB4mBZ-"
      },
      "source": [
        "* Final dataset"
      ]
    },
    {
      "cell_type": "code",
      "metadata": {
        "source_hash": "8c9ea9b2",
        "execution_start": 1751039045944,
        "execution_millis": 0,
        "execution_context_id": "2bb7d26d-6008-42d6-a392-1d486e162e53",
        "cell_id": "bfd7e6aa248e4b81bcf45989e69c98c0",
        "deepnote_cell_type": "code",
        "colab": {
          "base_uri": "https://localhost:8080/",
          "height": 0
        },
        "id": "x_BZHXcZmBZ-",
        "outputId": "cbc16e34-b7e8-490e-c6bf-93a3ec823c0a"
      },
      "source": [
        "print(f\"Shape: {df_final.shape}\")"
      ],
      "execution_count": 21,
      "outputs": [
        {
          "output_type": "stream",
          "name": "stdout",
          "text": [
            "Shape: (13772, 6)\n"
          ]
        }
      ]
    },
    {
      "cell_type": "code",
      "metadata": {
        "source_hash": "a126b4fb",
        "execution_start": 1751039045994,
        "execution_millis": 3,
        "execution_context_id": "2bb7d26d-6008-42d6-a392-1d486e162e53",
        "cell_id": "817065971f5e496795a4d79a7f639c3a",
        "deepnote_cell_type": "code",
        "colab": {
          "base_uri": "https://localhost:8080/",
          "height": 206
        },
        "id": "3XnxhsUSmBZ-",
        "outputId": "979f8d0b-6d23-4295-d3db-0adbbd708c8f"
      },
      "source": [
        "df_final.head()"
      ],
      "execution_count": 22,
      "outputs": [
        {
          "output_type": "execute_result",
          "data": {
            "text/plain": [
              "                               Hotel_Name  Review_Year  Hotel_number_reviews  \\\n",
              "0  Copthorne Tara Hotel London Kensington         2017                  7105   \n",
              "1  BEST WESTERN Maitrise Hotel Maida Vale         2016                  1877   \n",
              "2                 Catalonia Ramblas 4 Sup         2016                  4276   \n",
              "3              Hyatt Regency Paris Etoile         2016                  3973   \n",
              "4         Best Western PLUS Epping Forest         2016                   587   \n",
              "\n",
              "                                         Review_Text  Review_Score  \\\n",
              "0  expensive room rate include parking breakfast ...           6.7   \n",
              "1  bedroom basement windows small room next noisy...           5.8   \n",
              "2                       room ready makeover location           6.3   \n",
              "3  firstly lady check desk quite unfriendly greet...           5.8   \n",
              "4  able park vehicle due staff filling car park u...           3.3   \n",
              "\n",
              "   Review_Type_Binary  \n",
              "0                   0  \n",
              "1                   0  \n",
              "2                   0  \n",
              "3                   0  \n",
              "4                   0  "
            ],
            "text/html": [
              "\n",
              "  <div id=\"df-2fed96f0-a3a7-4362-b43e-50623613aed3\" class=\"colab-df-container\">\n",
              "    <div>\n",
              "<style scoped>\n",
              "    .dataframe tbody tr th:only-of-type {\n",
              "        vertical-align: middle;\n",
              "    }\n",
              "\n",
              "    .dataframe tbody tr th {\n",
              "        vertical-align: top;\n",
              "    }\n",
              "\n",
              "    .dataframe thead th {\n",
              "        text-align: right;\n",
              "    }\n",
              "</style>\n",
              "<table border=\"1\" class=\"dataframe\">\n",
              "  <thead>\n",
              "    <tr style=\"text-align: right;\">\n",
              "      <th></th>\n",
              "      <th>Hotel_Name</th>\n",
              "      <th>Review_Year</th>\n",
              "      <th>Hotel_number_reviews</th>\n",
              "      <th>Review_Text</th>\n",
              "      <th>Review_Score</th>\n",
              "      <th>Review_Type_Binary</th>\n",
              "    </tr>\n",
              "  </thead>\n",
              "  <tbody>\n",
              "    <tr>\n",
              "      <th>0</th>\n",
              "      <td>Copthorne Tara Hotel London Kensington</td>\n",
              "      <td>2017</td>\n",
              "      <td>7105</td>\n",
              "      <td>expensive room rate include parking breakfast ...</td>\n",
              "      <td>6.7</td>\n",
              "      <td>0</td>\n",
              "    </tr>\n",
              "    <tr>\n",
              "      <th>1</th>\n",
              "      <td>BEST WESTERN Maitrise Hotel Maida Vale</td>\n",
              "      <td>2016</td>\n",
              "      <td>1877</td>\n",
              "      <td>bedroom basement windows small room next noisy...</td>\n",
              "      <td>5.8</td>\n",
              "      <td>0</td>\n",
              "    </tr>\n",
              "    <tr>\n",
              "      <th>2</th>\n",
              "      <td>Catalonia Ramblas 4 Sup</td>\n",
              "      <td>2016</td>\n",
              "      <td>4276</td>\n",
              "      <td>room ready makeover location</td>\n",
              "      <td>6.3</td>\n",
              "      <td>0</td>\n",
              "    </tr>\n",
              "    <tr>\n",
              "      <th>3</th>\n",
              "      <td>Hyatt Regency Paris Etoile</td>\n",
              "      <td>2016</td>\n",
              "      <td>3973</td>\n",
              "      <td>firstly lady check desk quite unfriendly greet...</td>\n",
              "      <td>5.8</td>\n",
              "      <td>0</td>\n",
              "    </tr>\n",
              "    <tr>\n",
              "      <th>4</th>\n",
              "      <td>Best Western PLUS Epping Forest</td>\n",
              "      <td>2016</td>\n",
              "      <td>587</td>\n",
              "      <td>able park vehicle due staff filling car park u...</td>\n",
              "      <td>3.3</td>\n",
              "      <td>0</td>\n",
              "    </tr>\n",
              "  </tbody>\n",
              "</table>\n",
              "</div>\n",
              "    <div class=\"colab-df-buttons\">\n",
              "\n",
              "  <div class=\"colab-df-container\">\n",
              "    <button class=\"colab-df-convert\" onclick=\"convertToInteractive('df-2fed96f0-a3a7-4362-b43e-50623613aed3')\"\n",
              "            title=\"Convert this dataframe to an interactive table.\"\n",
              "            style=\"display:none;\">\n",
              "\n",
              "  <svg xmlns=\"http://www.w3.org/2000/svg\" height=\"24px\" viewBox=\"0 -960 960 960\">\n",
              "    <path d=\"M120-120v-720h720v720H120Zm60-500h600v-160H180v160Zm220 220h160v-160H400v160Zm0 220h160v-160H400v160ZM180-400h160v-160H180v160Zm440 0h160v-160H620v160ZM180-180h160v-160H180v160Zm440 0h160v-160H620v160Z\"/>\n",
              "  </svg>\n",
              "    </button>\n",
              "\n",
              "  <style>\n",
              "    .colab-df-container {\n",
              "      display:flex;\n",
              "      gap: 12px;\n",
              "    }\n",
              "\n",
              "    .colab-df-convert {\n",
              "      background-color: #E8F0FE;\n",
              "      border: none;\n",
              "      border-radius: 50%;\n",
              "      cursor: pointer;\n",
              "      display: none;\n",
              "      fill: #1967D2;\n",
              "      height: 32px;\n",
              "      padding: 0 0 0 0;\n",
              "      width: 32px;\n",
              "    }\n",
              "\n",
              "    .colab-df-convert:hover {\n",
              "      background-color: #E2EBFA;\n",
              "      box-shadow: 0px 1px 2px rgba(60, 64, 67, 0.3), 0px 1px 3px 1px rgba(60, 64, 67, 0.15);\n",
              "      fill: #174EA6;\n",
              "    }\n",
              "\n",
              "    .colab-df-buttons div {\n",
              "      margin-bottom: 4px;\n",
              "    }\n",
              "\n",
              "    [theme=dark] .colab-df-convert {\n",
              "      background-color: #3B4455;\n",
              "      fill: #D2E3FC;\n",
              "    }\n",
              "\n",
              "    [theme=dark] .colab-df-convert:hover {\n",
              "      background-color: #434B5C;\n",
              "      box-shadow: 0px 1px 3px 1px rgba(0, 0, 0, 0.15);\n",
              "      filter: drop-shadow(0px 1px 2px rgba(0, 0, 0, 0.3));\n",
              "      fill: #FFFFFF;\n",
              "    }\n",
              "  </style>\n",
              "\n",
              "    <script>\n",
              "      const buttonEl =\n",
              "        document.querySelector('#df-2fed96f0-a3a7-4362-b43e-50623613aed3 button.colab-df-convert');\n",
              "      buttonEl.style.display =\n",
              "        google.colab.kernel.accessAllowed ? 'block' : 'none';\n",
              "\n",
              "      async function convertToInteractive(key) {\n",
              "        const element = document.querySelector('#df-2fed96f0-a3a7-4362-b43e-50623613aed3');\n",
              "        const dataTable =\n",
              "          await google.colab.kernel.invokeFunction('convertToInteractive',\n",
              "                                                    [key], {});\n",
              "        if (!dataTable) return;\n",
              "\n",
              "        const docLinkHtml = 'Like what you see? Visit the ' +\n",
              "          '<a target=\"_blank\" href=https://colab.research.google.com/notebooks/data_table.ipynb>data table notebook</a>'\n",
              "          + ' to learn more about interactive tables.';\n",
              "        element.innerHTML = '';\n",
              "        dataTable['output_type'] = 'display_data';\n",
              "        await google.colab.output.renderOutput(dataTable, element);\n",
              "        const docLink = document.createElement('div');\n",
              "        docLink.innerHTML = docLinkHtml;\n",
              "        element.appendChild(docLink);\n",
              "      }\n",
              "    </script>\n",
              "  </div>\n",
              "\n",
              "\n",
              "    <div id=\"df-03e8038d-6015-4829-91ef-8f18afd0e095\">\n",
              "      <button class=\"colab-df-quickchart\" onclick=\"quickchart('df-03e8038d-6015-4829-91ef-8f18afd0e095')\"\n",
              "                title=\"Suggest charts\"\n",
              "                style=\"display:none;\">\n",
              "\n",
              "<svg xmlns=\"http://www.w3.org/2000/svg\" height=\"24px\"viewBox=\"0 0 24 24\"\n",
              "     width=\"24px\">\n",
              "    <g>\n",
              "        <path d=\"M19 3H5c-1.1 0-2 .9-2 2v14c0 1.1.9 2 2 2h14c1.1 0 2-.9 2-2V5c0-1.1-.9-2-2-2zM9 17H7v-7h2v7zm4 0h-2V7h2v10zm4 0h-2v-4h2v4z\"/>\n",
              "    </g>\n",
              "</svg>\n",
              "      </button>\n",
              "\n",
              "<style>\n",
              "  .colab-df-quickchart {\n",
              "      --bg-color: #E8F0FE;\n",
              "      --fill-color: #1967D2;\n",
              "      --hover-bg-color: #E2EBFA;\n",
              "      --hover-fill-color: #174EA6;\n",
              "      --disabled-fill-color: #AAA;\n",
              "      --disabled-bg-color: #DDD;\n",
              "  }\n",
              "\n",
              "  [theme=dark] .colab-df-quickchart {\n",
              "      --bg-color: #3B4455;\n",
              "      --fill-color: #D2E3FC;\n",
              "      --hover-bg-color: #434B5C;\n",
              "      --hover-fill-color: #FFFFFF;\n",
              "      --disabled-bg-color: #3B4455;\n",
              "      --disabled-fill-color: #666;\n",
              "  }\n",
              "\n",
              "  .colab-df-quickchart {\n",
              "    background-color: var(--bg-color);\n",
              "    border: none;\n",
              "    border-radius: 50%;\n",
              "    cursor: pointer;\n",
              "    display: none;\n",
              "    fill: var(--fill-color);\n",
              "    height: 32px;\n",
              "    padding: 0;\n",
              "    width: 32px;\n",
              "  }\n",
              "\n",
              "  .colab-df-quickchart:hover {\n",
              "    background-color: var(--hover-bg-color);\n",
              "    box-shadow: 0 1px 2px rgba(60, 64, 67, 0.3), 0 1px 3px 1px rgba(60, 64, 67, 0.15);\n",
              "    fill: var(--button-hover-fill-color);\n",
              "  }\n",
              "\n",
              "  .colab-df-quickchart-complete:disabled,\n",
              "  .colab-df-quickchart-complete:disabled:hover {\n",
              "    background-color: var(--disabled-bg-color);\n",
              "    fill: var(--disabled-fill-color);\n",
              "    box-shadow: none;\n",
              "  }\n",
              "\n",
              "  .colab-df-spinner {\n",
              "    border: 2px solid var(--fill-color);\n",
              "    border-color: transparent;\n",
              "    border-bottom-color: var(--fill-color);\n",
              "    animation:\n",
              "      spin 1s steps(1) infinite;\n",
              "  }\n",
              "\n",
              "  @keyframes spin {\n",
              "    0% {\n",
              "      border-color: transparent;\n",
              "      border-bottom-color: var(--fill-color);\n",
              "      border-left-color: var(--fill-color);\n",
              "    }\n",
              "    20% {\n",
              "      border-color: transparent;\n",
              "      border-left-color: var(--fill-color);\n",
              "      border-top-color: var(--fill-color);\n",
              "    }\n",
              "    30% {\n",
              "      border-color: transparent;\n",
              "      border-left-color: var(--fill-color);\n",
              "      border-top-color: var(--fill-color);\n",
              "      border-right-color: var(--fill-color);\n",
              "    }\n",
              "    40% {\n",
              "      border-color: transparent;\n",
              "      border-right-color: var(--fill-color);\n",
              "      border-top-color: var(--fill-color);\n",
              "    }\n",
              "    60% {\n",
              "      border-color: transparent;\n",
              "      border-right-color: var(--fill-color);\n",
              "    }\n",
              "    80% {\n",
              "      border-color: transparent;\n",
              "      border-right-color: var(--fill-color);\n",
              "      border-bottom-color: var(--fill-color);\n",
              "    }\n",
              "    90% {\n",
              "      border-color: transparent;\n",
              "      border-bottom-color: var(--fill-color);\n",
              "    }\n",
              "  }\n",
              "</style>\n",
              "\n",
              "      <script>\n",
              "        async function quickchart(key) {\n",
              "          const quickchartButtonEl =\n",
              "            document.querySelector('#' + key + ' button');\n",
              "          quickchartButtonEl.disabled = true;  // To prevent multiple clicks.\n",
              "          quickchartButtonEl.classList.add('colab-df-spinner');\n",
              "          try {\n",
              "            const charts = await google.colab.kernel.invokeFunction(\n",
              "                'suggestCharts', [key], {});\n",
              "          } catch (error) {\n",
              "            console.error('Error during call to suggestCharts:', error);\n",
              "          }\n",
              "          quickchartButtonEl.classList.remove('colab-df-spinner');\n",
              "          quickchartButtonEl.classList.add('colab-df-quickchart-complete');\n",
              "        }\n",
              "        (() => {\n",
              "          let quickchartButtonEl =\n",
              "            document.querySelector('#df-03e8038d-6015-4829-91ef-8f18afd0e095 button');\n",
              "          quickchartButtonEl.style.display =\n",
              "            google.colab.kernel.accessAllowed ? 'block' : 'none';\n",
              "        })();\n",
              "      </script>\n",
              "    </div>\n",
              "\n",
              "    </div>\n",
              "  </div>\n"
            ],
            "application/vnd.google.colaboratory.intrinsic+json": {
              "type": "dataframe",
              "variable_name": "df_final",
              "summary": "{\n  \"name\": \"df_final\",\n  \"rows\": 13772,\n  \"fields\": [\n    {\n      \"column\": \"Hotel_Name\",\n      \"properties\": {\n        \"dtype\": \"category\",\n        \"num_unique_values\": 1366,\n        \"samples\": [\n          \"The Guesthouse Vienna\",\n          \"Chambiges Elys es\",\n          \"La Suite West Hyde Park\"\n        ],\n        \"semantic_type\": \"\",\n        \"description\": \"\"\n      }\n    },\n    {\n      \"column\": \"Review_Year\",\n      \"properties\": {\n        \"dtype\": \"int32\",\n        \"num_unique_values\": 3,\n        \"samples\": [\n          2017,\n          2016,\n          2015\n        ],\n        \"semantic_type\": \"\",\n        \"description\": \"\"\n      }\n    },\n    {\n      \"column\": \"Hotel_number_reviews\",\n      \"properties\": {\n        \"dtype\": \"number\",\n        \"std\": 2388,\n        \"min\": 43,\n        \"max\": 16670,\n        \"num_unique_values\": 1085,\n        \"samples\": [\n          1744,\n          1018,\n          851\n        ],\n        \"semantic_type\": \"\",\n        \"description\": \"\"\n      }\n    },\n    {\n      \"column\": \"Review_Text\",\n      \"properties\": {\n        \"dtype\": \"string\",\n        \"num_unique_values\": 12464,\n        \"samples\": [\n          \"grumpy staff expensive drinks food great location nice rooms\",\n          \"rooms way small price pay iron mini fridge rooms cleanliness nice attentive staff\",\n          \"bathroom black mouldy could cleaned bed comfy breakfast great\"\n        ],\n        \"semantic_type\": \"\",\n        \"description\": \"\"\n      }\n    },\n    {\n      \"column\": \"Review_Score\",\n      \"properties\": {\n        \"dtype\": \"number\",\n        \"std\": 2.059654194003901,\n        \"min\": 2.5,\n        \"max\": 10.0,\n        \"num_unique_values\": 34,\n        \"samples\": [\n          5.5,\n          6.9,\n          7.5\n        ],\n        \"semantic_type\": \"\",\n        \"description\": \"\"\n      }\n    },\n    {\n      \"column\": \"Review_Type_Binary\",\n      \"properties\": {\n        \"dtype\": \"number\",\n        \"std\": 0,\n        \"min\": 0,\n        \"max\": 1,\n        \"num_unique_values\": 2,\n        \"samples\": [\n          1,\n          0\n        ],\n        \"semantic_type\": \"\",\n        \"description\": \"\"\n      }\n    }\n  ]\n}"
            }
          },
          "metadata": {},
          "execution_count": 22
        }
      ]
    },
    {
      "cell_type": "markdown",
      "metadata": {
        "formattedRanges": [],
        "cell_id": "2dd959ecd5fc473e9ca93ad3c1072d69",
        "deepnote_cell_type": "text-cell-h2",
        "id": "xqjnIdahmBZ_"
      },
      "source": [
        "### **2.c Train / Validation / Test Split**"
      ]
    },
    {
      "cell_type": "markdown",
      "source": [
        "**CHANGE:** In the written exam, I just mentioned splitting the data into train, validation, and test sets, but I didn’t specify how.   \n",
        "Here, I implemented a two-step stratified split (first 70% train, then the remaining 30% into 15% validation and 15% test). It makes sure both classes are balanced everywhere, so I don't end up with, say, only one class in the validation or test set by accident."
      ],
      "metadata": {
        "id": "Wt4jrhNsMtwK"
      }
    },
    {
      "cell_type": "code",
      "metadata": {
        "source_hash": "56c8e996",
        "execution_start": 1751039046094,
        "execution_millis": 0,
        "execution_context_id": "2bb7d26d-6008-42d6-a392-1d486e162e53",
        "cell_id": "408cd811d8e34c788cbaef40f5b64bb9",
        "deepnote_cell_type": "code",
        "id": "dnLlm5BTmBZ_"
      },
      "source": [
        "# Split of dataset\n",
        "X = df_final.drop(['Review_Score', 'Review_Type_Binary'], axis=1)\n",
        "y_reg = df_final['Review_Score'].values\n",
        "y_clf = df_final['Review_Type_Binary'].values\n",
        "\n",
        "X_train, X_temp, y_reg_train, y_reg_temp, y_clf_train, y_clf_temp = train_test_split(\n",
        "    X, y_reg, y_clf, test_size=0.3, random_state=42, stratify=y_clf\n",
        ")\n",
        "\n",
        "X_val, X_test, y_reg_val, y_reg_test, y_clf_val, y_clf_test = train_test_split(\n",
        "    X_temp, y_reg_temp, y_clf_temp, test_size=0.5, random_state=42, stratify=y_clf_temp\n",
        ")"
      ],
      "execution_count": 23,
      "outputs": []
    },
    {
      "cell_type": "code",
      "metadata": {
        "source_hash": "b9349b6a",
        "execution_start": 1751039046144,
        "execution_millis": 0,
        "execution_context_id": "2bb7d26d-6008-42d6-a392-1d486e162e53",
        "cell_id": "f833f4be138646919324add21ab2bd6f",
        "deepnote_cell_type": "code",
        "colab": {
          "base_uri": "https://localhost:8080/",
          "height": 0
        },
        "id": "eLn-e_aFmBZ_",
        "outputId": "2e1061d7-6926-4bb4-8112-8fc6f0143422"
      },
      "source": [
        "# verify the distribution of classes\n",
        "print(f\"Class Distribution:\")\n",
        "print(f\"Train - Bad: {sum(y_clf_train==0)}, Good: {sum(y_clf_train==1)}\")\n",
        "print(f\"Val - Bad: {sum(y_clf_val==0)}, Good: {sum(y_clf_val==1)}\")\n",
        "print(f\"Test - Bad: {sum(y_clf_test==0)}, Good: {sum(y_clf_test==1)}\")"
      ],
      "execution_count": 24,
      "outputs": [
        {
          "output_type": "stream",
          "name": "stdout",
          "text": [
            "Class Distribution:\n",
            "Train - Bad: 4821, Good: 4819\n",
            "Val - Bad: 1033, Good: 1033\n",
            "Test - Bad: 1034, Good: 1032\n"
          ]
        }
      ]
    },
    {
      "cell_type": "markdown",
      "source": [
        "**CHANGE:** I standardized `Review_Year` and `Hotel_number_reviews` so they’re on the same scale. Otherwise, the model could just focus on the bigger numbers and ignore the rest.\n",
        "Moreover, I tokenized the text and set a fixed sequence length at the 95th percentile of actual review lengths. This way, almost all reviews fit, but I’m not wasting time or memory on a handful of really long ones. Here I also joined the `Review_Text` and `Hotel_Name`, so the LSTM can use all the text info together. It can be useful because sometimes the hotel name itself gives context that could influence both the review score and the sentiment. Lastly, I used the `oov_token` parameter in the tokenizer to handle out-of-vocabulary words. This avoids issues when the model encounters words it hasn’t seen during training.\n",
        "\n"
      ],
      "metadata": {
        "id": "VfDwJYVaD5kX"
      }
    },
    {
      "cell_type": "code",
      "metadata": {
        "source_hash": "2075af97",
        "execution_start": 1751039046204,
        "execution_millis": 0,
        "execution_context_id": "2bb7d26d-6008-42d6-a392-1d486e162e53",
        "cell_id": "ca06ed4b90824225bb5168b105c885cc",
        "deepnote_cell_type": "code",
        "id": "XYnmbQU6mBaA"
      },
      "source": [
        "# 1. Full text (Review + Hotel Name)\n",
        "X_train['combined_text'] = X_train['Review_Text'] + ' ' + X_train['Hotel_Name']\n",
        "X_val['combined_text'] = X_val['Review_Text'] + ' ' + X_val['Hotel_Name']\n",
        "X_test['combined_text'] = X_test['Review_Text'] + ' ' + X_test['Hotel_Name']"
      ],
      "execution_count": 25,
      "outputs": []
    },
    {
      "cell_type": "code",
      "metadata": {
        "source_hash": "548b5b85",
        "execution_start": 1751039046264,
        "execution_millis": 314,
        "execution_context_id": "2bb7d26d-6008-42d6-a392-1d486e162e53",
        "cell_id": "d6eff24ef38e44f5b377a21070015faf",
        "deepnote_cell_type": "code",
        "id": "kAqBwJWLmBaA"
      },
      "source": [
        "# Tokenization\n",
        "VOCAB_SIZE = 5000\n",
        "SEQUENCE_LENGTH = 50\n",
        "EMBEDDING_DIM = 64\n",
        "\n",
        "tokenizer = Tokenizer(num_words=VOCAB_SIZE, oov_token=\"<OOV>\")\n",
        "tokenizer.fit_on_texts(X_train['combined_text'])\n",
        "\n",
        "X_train_text = pad_sequences(tokenizer.texts_to_sequences(X_train['combined_text']), maxlen=SEQUENCE_LENGTH)\n",
        "X_val_text = pad_sequences(tokenizer.texts_to_sequences(X_val['combined_text']), maxlen=SEQUENCE_LENGTH)\n",
        "X_test_text = pad_sequences(tokenizer.texts_to_sequences(X_test['combined_text']), maxlen=SEQUENCE_LENGTH)\n",
        "\n",
        "# Numerical features\n",
        "numerical_features = ['Review_Year', 'Hotel_number_reviews']\n",
        "scaler = StandardScaler()\n",
        "X_train_num = scaler.fit_transform(X_train[numerical_features])\n",
        "X_val_num = scaler.transform(X_val[numerical_features])\n",
        "X_test_num = scaler.transform(X_test[numerical_features])"
      ],
      "execution_count": 26,
      "outputs": []
    },
    {
      "cell_type": "code",
      "metadata": {
        "source_hash": "c5ed0aaa",
        "execution_start": 1751039046634,
        "execution_millis": 0,
        "execution_context_id": "2bb7d26d-6008-42d6-a392-1d486e162e53",
        "cell_id": "f79239763c74409fbff0aebce4a7ed9b",
        "deepnote_cell_type": "code",
        "colab": {
          "base_uri": "https://localhost:8080/",
          "height": 0
        },
        "id": "BukupfDHmBaA",
        "outputId": "fc0ca050-c848-4809-aba9-2dcb60a8fe7f"
      },
      "source": [
        "print(f\"Text input shape: {X_train_text.shape}\")\n",
        "print(f\"Numerical input shape: {X_train_num.shape}\")"
      ],
      "execution_count": 27,
      "outputs": [
        {
          "output_type": "stream",
          "name": "stdout",
          "text": [
            "Text input shape: (9640, 50)\n",
            "Numerical input shape: (9640, 2)\n"
          ]
        }
      ]
    },
    {
      "cell_type": "markdown",
      "source": [
        "## **3. Output and Activation**\n",
        "\n",
        "For this project, I wanted my model to predict both the review type (binary classification: good/bad) and the review score (regression: a number between 2.5 and 10). To make this happen, I gave my model two different output heads:\n",
        "\n",
        "- For the classification task, I use a single neuron with a **sigmoid activation**. It’s the standard for binary problems, since it outputs a value between 0 and 1, interpretable as a probability.\n",
        "\n",
        "- For the regression task, I use a single neuron with a **linear activation**. That just means it can output any real value and it is perfect for predicting the review score, which is continuous.\n",
        "\n",
        "In this way, the model produces both the probability that a review is positive and the predicted score for each input.\n",
        "\n"
      ],
      "metadata": {
        "id": "2r6lhsrZKSOy"
      }
    },
    {
      "cell_type": "markdown",
      "metadata": {
        "formattedRanges": [],
        "cell_id": "49a2f96ca6fc4e06a32491c5edcd2419",
        "deepnote_cell_type": "text-cell-p",
        "id": "DRMBHHESmBaB"
      },
      "source": [
        "## **4. Loss**\n",
        "I chose to solve both tasks within the same model, using a combined loss, because this way I can share feature extraction and train a more general representation. Technically, I could have solved them separately as well, but I decided to take this direction during the exam. I thought it could be interesting, even though we hadn’t explicitly covered this method in class.\n",
        "\n",
        "I combine both losses into a single weighted sum:\n",
        "- **Binary Cross-Entropy** for the classification output.\n",
        "- **Mean Squared Error (MSE)** for the regression output.\n",
        "\n",
        "I assign equal weights (0.5 each) to the two objectives.\n",
        "\n",
        "This combination also makes the training a bit more challenging, but the code stays clean and the results are easier to compare in one go."
      ]
    },
    {
      "cell_type": "markdown",
      "metadata": {
        "formattedRanges": [],
        "cell_id": "e497b9d1ecbf4e129d8c9d83ef0279c4",
        "deepnote_cell_type": "text-cell-h2",
        "id": "rC5UDuf6mBaA"
      },
      "source": [
        "## **5. Model Configuration**"
      ]
    },
    {
      "cell_type": "markdown",
      "metadata": {
        "formattedRanges": [],
        "cell_id": "e015d5b0d85148cb95e850f0fab0c927",
        "deepnote_cell_type": "text-cell-p",
        "id": "7N2kLQuVmBaB"
      },
      "source": [
        "### **5.a Model Architecture**\n",
        "\n",
        "I decided to use a multitask architecture that predicts both the review type (binary classification) and the review score (regression) in a single model.  \n",
        "This way, the network can share learned representations between the two tasks, which is often beneficial when both are based on similar features.  \n",
        "- For text, I use an LSTM branch (ReLU + He initializer) since LSTMs are excellent for sequence modeling and capturing sentiment.\n",
        "- For numeric inputs, I use a simple MLP with tanh activation and Xavier initialization, which a classic setup for tabular data.\n",
        "- I concatenate both branches and output through two separate heads: sigmoid for classification and linear for regression.\n"
      ]
    },
    {
      "cell_type": "markdown",
      "metadata": {
        "formattedRanges": [],
        "cell_id": "0c9fe51180384c37bfef82ab3d60c988",
        "deepnote_cell_type": "text-cell-h3",
        "id": "zvDFSpSCmBaB"
      },
      "source": [
        "### **Initializers**\n",
        "\n",
        "I paid attention to weight initialization, since it can make a difference for convergence speed and stability.\n",
        "\n",
        "- For layers using ReLU activations (like my LSTM for text), I use **He initialization**. This is pretty much the gold standard for ReLU because it keeps the variance under control as data flows through the network.\n",
        "- For layers using tanh (like my MLP for numeric features), I use **Xavier (Glorot) initialization**. Xavier is known to work well with tanh and keeps everything nicely scaled from the start.\n"
      ]
    },
    {
      "cell_type": "markdown",
      "source": [
        "###**Regularizers**\n",
        "\n",
        "I use **Dropout** after the main layers in both the text and numeric branches. Dropout helps prevent overfitting, which can be a real issue with relatively small datasets and expressive models.\n",
        "\n",
        "**CHANGE:** In the written solution, I only mentioned using dropout in general. Here, I specifically applied dropout after the LSTM and Dense layers, choosing standard rates (0.2 or 0.3) based on what usually works well in practice and to make the model more robust without slowing down learning too much.\n",
        "\n",
        "To keep things simple and reduce the risk of over-regularization, I dind't use batch normalization and L2 regularization.\n"
      ],
      "metadata": {
        "id": "WIgqlRxaJmxV"
      }
    },
    {
      "cell_type": "markdown",
      "source": [
        "###**Optimizer**\n",
        "\n",
        "For optimization, I picked **Adam**, which is particularly used in deep learning projects these days with 0.001 as learning rate.  \n",
        "Adam combines the advantages of RMSProp and momentum, making it fast to converge and pretty robust to hyperparameter settings.  "
      ],
      "metadata": {
        "id": "64s5-ZNwaxN8"
      }
    },
    {
      "cell_type": "code",
      "metadata": {
        "source_hash": "6097a66a",
        "execution_start": 1751039046694,
        "execution_millis": 0,
        "execution_context_id": "2bb7d26d-6008-42d6-a392-1d486e162e53",
        "cell_id": "21814c319dac48efbd24e83a6df90bb4",
        "deepnote_cell_type": "code",
        "id": "tMwhLGMWmBaB"
      },
      "source": [
        "# UNIFIED MODEL WITH PROPER INITIALIZATIONS\n",
        "def create_unified_model():\n",
        "    \"\"\"\n",
        "    Creates the unified model according to the theoretical project specifications\n",
        "    \"\"\"\n",
        "    # Input layers\n",
        "    text_input = layers.Input(shape=(SEQUENCE_LENGTH,), name='text_input')\n",
        "    numerical_input = layers.Input(shape=(2,), name='numerical_input')\n",
        "\n",
        "    # TEXT BRANCH - LSTM FOR CLASSIFICATION\n",
        "    # Embedding layer\n",
        "    embedding = layers.Embedding(\n",
        "        input_dim=VOCAB_SIZE,\n",
        "        output_dim=EMBEDDING_DIM,\n",
        "        input_length=SEQUENCE_LENGTH,\n",
        "        embeddings_initializer='uniform'  # Default for embedding\n",
        "    )(text_input)\n",
        "\n",
        "    # LSTM with ReLU activation and He initialization\n",
        "    lstm_out = layers.LSTM(\n",
        "        64,\n",
        "        return_sequences=False,\n",
        "        activation='relu',\n",
        "        kernel_initializer=initializers.HeNormal(),  # He initialization for ReLU\n",
        "        recurrent_initializer=initializers.HeNormal()\n",
        "    )(embedding)\n",
        "\n",
        "    lstm_dropout = layers.Dropout(0.3)(lstm_out)\n",
        "\n",
        "    # NUMERICAL BRANCH - MLP FOR REGRESSION\n",
        "    # Dense layers with tanh activation and Xavier/Glorot initialization\n",
        "    num_dense1 = layers.Dense(\n",
        "        32,\n",
        "        activation='tanh',\n",
        "        kernel_initializer=initializers.GlorotUniform()  # Xavier/Glorot for tanh\n",
        "    )(numerical_input)\n",
        "\n",
        "    num_dropout1 = layers.Dropout(0.3)(num_dense1)\n",
        "\n",
        "    num_dense2 = layers.Dense(\n",
        "        16,\n",
        "        activation='tanh',\n",
        "        kernel_initializer=initializers.GlorotUniform()\n",
        "    )(num_dropout1)\n",
        "\n",
        "    # FEATURE CONCATENATION\n",
        "    combined = layers.Concatenate()([lstm_dropout, num_dense2])\n",
        "\n",
        "    # OUTPUT FOR CLASSIFICATION (with ReLU as in the project)\n",
        "    clf_dense = layers.Dense(\n",
        "        32,\n",
        "        activation='relu',\n",
        "        kernel_initializer=initializers.HeNormal()\n",
        "    )(combined)\n",
        "    clf_dropout = layers.Dropout(0.2)(clf_dense)\n",
        "\n",
        "    classification_output = layers.Dense(\n",
        "        1,\n",
        "        activation='sigmoid',\n",
        "        name='classification',\n",
        "        kernel_initializer=initializers.GlorotUniform()\n",
        "    )(clf_dropout)\n",
        "\n",
        "    # OUTPUT FOR REGRESSION (with tanh as in the project)\n",
        "    reg_dense = layers.Dense(\n",
        "        32,\n",
        "        activation='tanh',\n",
        "        kernel_initializer=initializers.GlorotUniform()\n",
        "    )(combined)\n",
        "    reg_dropout = layers.Dropout(0.2)(reg_dense)\n",
        "\n",
        "    regression_output = layers.Dense(\n",
        "        1,\n",
        "        activation='linear',\n",
        "        name='regression',\n",
        "        kernel_initializer=initializers.GlorotUniform()\n",
        "    )(reg_dropout)\n",
        "\n",
        "    # FINAL MODEL\n",
        "    model = models.Model(\n",
        "        inputs=[text_input, numerical_input],\n",
        "        outputs=[classification_output, regression_output]\n",
        "    )\n",
        "\n",
        "    return model"
      ],
      "execution_count": 28,
      "outputs": []
    },
    {
      "cell_type": "code",
      "metadata": {
        "source_hash": "34ad5fc1",
        "execution_start": 1751039046754,
        "execution_millis": 216,
        "execution_context_id": "2bb7d26d-6008-42d6-a392-1d486e162e53",
        "cell_id": "c1c36196794c477a9b617678c30f99f2",
        "deepnote_cell_type": "code",
        "id": "tNGQgRjAmBaB"
      },
      "source": [
        "# Import the necessary module for initializers\n",
        "from tensorflow.keras import initializers\n",
        "\n",
        "# Creation of the model\n",
        "model = create_unified_model()\n",
        "\n",
        "# COMBINED LOSS (λ=0.5, β=0.5)\n",
        "model.compile(\n",
        "    optimizer=optimizers.Adam(learning_rate=0.001),\n",
        "    loss={\n",
        "        'classification': 'binary_crossentropy',  # Binary Cross Entropy\n",
        "        'regression': 'mse'  # MSE\n",
        "    },\n",
        "    loss_weights={\n",
        "        'classification': 0.5,  # λ = 0.5\n",
        "        'regression': 0.5       # β = 0.5\n",
        "    },\n",
        "    metrics={\n",
        "        'classification': ['accuracy'],\n",
        "        'regression': ['mae']\n",
        "    }\n",
        ")"
      ],
      "execution_count": 29,
      "outputs": []
    },
    {
      "cell_type": "code",
      "metadata": {
        "source_hash": "4e6a3b95",
        "execution_start": 1751039047015,
        "execution_millis": 3,
        "execution_context_id": "2bb7d26d-6008-42d6-a392-1d486e162e53",
        "cell_id": "40033558d4ee40bb9fbe4168827bf5d0",
        "deepnote_cell_type": "code",
        "colab": {
          "base_uri": "https://localhost:8080/",
          "height": 710
        },
        "id": "p28LwmEnmBaB",
        "outputId": "ad6ef582-5d96-4562-ea34-b3880c21964c"
      },
      "source": [
        "model.summary()"
      ],
      "execution_count": 30,
      "outputs": [
        {
          "output_type": "display_data",
          "data": {
            "text/plain": [
              "\u001b[1mModel: \"functional\"\u001b[0m\n"
            ],
            "text/html": [
              "<pre style=\"white-space:pre;overflow-x:auto;line-height:normal;font-family:Menlo,'DejaVu Sans Mono',consolas,'Courier New',monospace\"><span style=\"font-weight: bold\">Model: \"functional\"</span>\n",
              "</pre>\n"
            ]
          },
          "metadata": {}
        },
        {
          "output_type": "display_data",
          "data": {
            "text/plain": [
              "┏━━━━━━━━━━━━━━━━━━━━━┳━━━━━━━━━━━━━━━━━━━┳━━━━━━━━━━━━┳━━━━━━━━━━━━━━━━━━━┓\n",
              "┃\u001b[1m \u001b[0m\u001b[1mLayer (type)       \u001b[0m\u001b[1m \u001b[0m┃\u001b[1m \u001b[0m\u001b[1mOutput Shape     \u001b[0m\u001b[1m \u001b[0m┃\u001b[1m \u001b[0m\u001b[1m   Param #\u001b[0m\u001b[1m \u001b[0m┃\u001b[1m \u001b[0m\u001b[1mConnected to     \u001b[0m\u001b[1m \u001b[0m┃\n",
              "┡━━━━━━━━━━━━━━━━━━━━━╇━━━━━━━━━━━━━━━━━━━╇━━━━━━━━━━━━╇━━━━━━━━━━━━━━━━━━━┩\n",
              "│ text_input          │ (\u001b[38;5;45mNone\u001b[0m, \u001b[38;5;34m50\u001b[0m)        │          \u001b[38;5;34m0\u001b[0m │ -                 │\n",
              "│ (\u001b[38;5;33mInputLayer\u001b[0m)        │                   │            │                   │\n",
              "├─────────────────────┼───────────────────┼────────────┼───────────────────┤\n",
              "│ numerical_input     │ (\u001b[38;5;45mNone\u001b[0m, \u001b[38;5;34m2\u001b[0m)         │          \u001b[38;5;34m0\u001b[0m │ -                 │\n",
              "│ (\u001b[38;5;33mInputLayer\u001b[0m)        │                   │            │                   │\n",
              "├─────────────────────┼───────────────────┼────────────┼───────────────────┤\n",
              "│ embedding           │ (\u001b[38;5;45mNone\u001b[0m, \u001b[38;5;34m50\u001b[0m, \u001b[38;5;34m64\u001b[0m)    │    \u001b[38;5;34m320,000\u001b[0m │ text_input[\u001b[38;5;34m0\u001b[0m][\u001b[38;5;34m0\u001b[0m]  │\n",
              "│ (\u001b[38;5;33mEmbedding\u001b[0m)         │                   │            │                   │\n",
              "├─────────────────────┼───────────────────┼────────────┼───────────────────┤\n",
              "│ dense (\u001b[38;5;33mDense\u001b[0m)       │ (\u001b[38;5;45mNone\u001b[0m, \u001b[38;5;34m32\u001b[0m)        │         \u001b[38;5;34m96\u001b[0m │ numerical_input[\u001b[38;5;34m…\u001b[0m │\n",
              "├─────────────────────┼───────────────────┼────────────┼───────────────────┤\n",
              "│ lstm (\u001b[38;5;33mLSTM\u001b[0m)         │ (\u001b[38;5;45mNone\u001b[0m, \u001b[38;5;34m64\u001b[0m)        │     \u001b[38;5;34m33,024\u001b[0m │ embedding[\u001b[38;5;34m0\u001b[0m][\u001b[38;5;34m0\u001b[0m]   │\n",
              "├─────────────────────┼───────────────────┼────────────┼───────────────────┤\n",
              "│ dropout_1 (\u001b[38;5;33mDropout\u001b[0m) │ (\u001b[38;5;45mNone\u001b[0m, \u001b[38;5;34m32\u001b[0m)        │          \u001b[38;5;34m0\u001b[0m │ dense[\u001b[38;5;34m0\u001b[0m][\u001b[38;5;34m0\u001b[0m]       │\n",
              "├─────────────────────┼───────────────────┼────────────┼───────────────────┤\n",
              "│ dropout (\u001b[38;5;33mDropout\u001b[0m)   │ (\u001b[38;5;45mNone\u001b[0m, \u001b[38;5;34m64\u001b[0m)        │          \u001b[38;5;34m0\u001b[0m │ lstm[\u001b[38;5;34m0\u001b[0m][\u001b[38;5;34m0\u001b[0m]        │\n",
              "├─────────────────────┼───────────────────┼────────────┼───────────────────┤\n",
              "│ dense_1 (\u001b[38;5;33mDense\u001b[0m)     │ (\u001b[38;5;45mNone\u001b[0m, \u001b[38;5;34m16\u001b[0m)        │        \u001b[38;5;34m528\u001b[0m │ dropout_1[\u001b[38;5;34m0\u001b[0m][\u001b[38;5;34m0\u001b[0m]   │\n",
              "├─────────────────────┼───────────────────┼────────────┼───────────────────┤\n",
              "│ concatenate         │ (\u001b[38;5;45mNone\u001b[0m, \u001b[38;5;34m80\u001b[0m)        │          \u001b[38;5;34m0\u001b[0m │ dropout[\u001b[38;5;34m0\u001b[0m][\u001b[38;5;34m0\u001b[0m],    │\n",
              "│ (\u001b[38;5;33mConcatenate\u001b[0m)       │                   │            │ dense_1[\u001b[38;5;34m0\u001b[0m][\u001b[38;5;34m0\u001b[0m]     │\n",
              "├─────────────────────┼───────────────────┼────────────┼───────────────────┤\n",
              "│ dense_2 (\u001b[38;5;33mDense\u001b[0m)     │ (\u001b[38;5;45mNone\u001b[0m, \u001b[38;5;34m32\u001b[0m)        │      \u001b[38;5;34m2,592\u001b[0m │ concatenate[\u001b[38;5;34m0\u001b[0m][\u001b[38;5;34m0\u001b[0m] │\n",
              "├─────────────────────┼───────────────────┼────────────┼───────────────────┤\n",
              "│ dense_3 (\u001b[38;5;33mDense\u001b[0m)     │ (\u001b[38;5;45mNone\u001b[0m, \u001b[38;5;34m32\u001b[0m)        │      \u001b[38;5;34m2,592\u001b[0m │ concatenate[\u001b[38;5;34m0\u001b[0m][\u001b[38;5;34m0\u001b[0m] │\n",
              "├─────────────────────┼───────────────────┼────────────┼───────────────────┤\n",
              "│ dropout_2 (\u001b[38;5;33mDropout\u001b[0m) │ (\u001b[38;5;45mNone\u001b[0m, \u001b[38;5;34m32\u001b[0m)        │          \u001b[38;5;34m0\u001b[0m │ dense_2[\u001b[38;5;34m0\u001b[0m][\u001b[38;5;34m0\u001b[0m]     │\n",
              "├─────────────────────┼───────────────────┼────────────┼───────────────────┤\n",
              "│ dropout_3 (\u001b[38;5;33mDropout\u001b[0m) │ (\u001b[38;5;45mNone\u001b[0m, \u001b[38;5;34m32\u001b[0m)        │          \u001b[38;5;34m0\u001b[0m │ dense_3[\u001b[38;5;34m0\u001b[0m][\u001b[38;5;34m0\u001b[0m]     │\n",
              "├─────────────────────┼───────────────────┼────────────┼───────────────────┤\n",
              "│ classification      │ (\u001b[38;5;45mNone\u001b[0m, \u001b[38;5;34m1\u001b[0m)         │         \u001b[38;5;34m33\u001b[0m │ dropout_2[\u001b[38;5;34m0\u001b[0m][\u001b[38;5;34m0\u001b[0m]   │\n",
              "│ (\u001b[38;5;33mDense\u001b[0m)             │                   │            │                   │\n",
              "├─────────────────────┼───────────────────┼────────────┼───────────────────┤\n",
              "│ regression (\u001b[38;5;33mDense\u001b[0m)  │ (\u001b[38;5;45mNone\u001b[0m, \u001b[38;5;34m1\u001b[0m)         │         \u001b[38;5;34m33\u001b[0m │ dropout_3[\u001b[38;5;34m0\u001b[0m][\u001b[38;5;34m0\u001b[0m]   │\n",
              "└─────────────────────┴───────────────────┴────────────┴───────────────────┘\n"
            ],
            "text/html": [
              "<pre style=\"white-space:pre;overflow-x:auto;line-height:normal;font-family:Menlo,'DejaVu Sans Mono',consolas,'Courier New',monospace\">┏━━━━━━━━━━━━━━━━━━━━━┳━━━━━━━━━━━━━━━━━━━┳━━━━━━━━━━━━┳━━━━━━━━━━━━━━━━━━━┓\n",
              "┃<span style=\"font-weight: bold\"> Layer (type)        </span>┃<span style=\"font-weight: bold\"> Output Shape      </span>┃<span style=\"font-weight: bold\">    Param # </span>┃<span style=\"font-weight: bold\"> Connected to      </span>┃\n",
              "┡━━━━━━━━━━━━━━━━━━━━━╇━━━━━━━━━━━━━━━━━━━╇━━━━━━━━━━━━╇━━━━━━━━━━━━━━━━━━━┩\n",
              "│ text_input          │ (<span style=\"color: #00d7ff; text-decoration-color: #00d7ff\">None</span>, <span style=\"color: #00af00; text-decoration-color: #00af00\">50</span>)        │          <span style=\"color: #00af00; text-decoration-color: #00af00\">0</span> │ -                 │\n",
              "│ (<span style=\"color: #0087ff; text-decoration-color: #0087ff\">InputLayer</span>)        │                   │            │                   │\n",
              "├─────────────────────┼───────────────────┼────────────┼───────────────────┤\n",
              "│ numerical_input     │ (<span style=\"color: #00d7ff; text-decoration-color: #00d7ff\">None</span>, <span style=\"color: #00af00; text-decoration-color: #00af00\">2</span>)         │          <span style=\"color: #00af00; text-decoration-color: #00af00\">0</span> │ -                 │\n",
              "│ (<span style=\"color: #0087ff; text-decoration-color: #0087ff\">InputLayer</span>)        │                   │            │                   │\n",
              "├─────────────────────┼───────────────────┼────────────┼───────────────────┤\n",
              "│ embedding           │ (<span style=\"color: #00d7ff; text-decoration-color: #00d7ff\">None</span>, <span style=\"color: #00af00; text-decoration-color: #00af00\">50</span>, <span style=\"color: #00af00; text-decoration-color: #00af00\">64</span>)    │    <span style=\"color: #00af00; text-decoration-color: #00af00\">320,000</span> │ text_input[<span style=\"color: #00af00; text-decoration-color: #00af00\">0</span>][<span style=\"color: #00af00; text-decoration-color: #00af00\">0</span>]  │\n",
              "│ (<span style=\"color: #0087ff; text-decoration-color: #0087ff\">Embedding</span>)         │                   │            │                   │\n",
              "├─────────────────────┼───────────────────┼────────────┼───────────────────┤\n",
              "│ dense (<span style=\"color: #0087ff; text-decoration-color: #0087ff\">Dense</span>)       │ (<span style=\"color: #00d7ff; text-decoration-color: #00d7ff\">None</span>, <span style=\"color: #00af00; text-decoration-color: #00af00\">32</span>)        │         <span style=\"color: #00af00; text-decoration-color: #00af00\">96</span> │ numerical_input[<span style=\"color: #00af00; text-decoration-color: #00af00\">…</span> │\n",
              "├─────────────────────┼───────────────────┼────────────┼───────────────────┤\n",
              "│ lstm (<span style=\"color: #0087ff; text-decoration-color: #0087ff\">LSTM</span>)         │ (<span style=\"color: #00d7ff; text-decoration-color: #00d7ff\">None</span>, <span style=\"color: #00af00; text-decoration-color: #00af00\">64</span>)        │     <span style=\"color: #00af00; text-decoration-color: #00af00\">33,024</span> │ embedding[<span style=\"color: #00af00; text-decoration-color: #00af00\">0</span>][<span style=\"color: #00af00; text-decoration-color: #00af00\">0</span>]   │\n",
              "├─────────────────────┼───────────────────┼────────────┼───────────────────┤\n",
              "│ dropout_1 (<span style=\"color: #0087ff; text-decoration-color: #0087ff\">Dropout</span>) │ (<span style=\"color: #00d7ff; text-decoration-color: #00d7ff\">None</span>, <span style=\"color: #00af00; text-decoration-color: #00af00\">32</span>)        │          <span style=\"color: #00af00; text-decoration-color: #00af00\">0</span> │ dense[<span style=\"color: #00af00; text-decoration-color: #00af00\">0</span>][<span style=\"color: #00af00; text-decoration-color: #00af00\">0</span>]       │\n",
              "├─────────────────────┼───────────────────┼────────────┼───────────────────┤\n",
              "│ dropout (<span style=\"color: #0087ff; text-decoration-color: #0087ff\">Dropout</span>)   │ (<span style=\"color: #00d7ff; text-decoration-color: #00d7ff\">None</span>, <span style=\"color: #00af00; text-decoration-color: #00af00\">64</span>)        │          <span style=\"color: #00af00; text-decoration-color: #00af00\">0</span> │ lstm[<span style=\"color: #00af00; text-decoration-color: #00af00\">0</span>][<span style=\"color: #00af00; text-decoration-color: #00af00\">0</span>]        │\n",
              "├─────────────────────┼───────────────────┼────────────┼───────────────────┤\n",
              "│ dense_1 (<span style=\"color: #0087ff; text-decoration-color: #0087ff\">Dense</span>)     │ (<span style=\"color: #00d7ff; text-decoration-color: #00d7ff\">None</span>, <span style=\"color: #00af00; text-decoration-color: #00af00\">16</span>)        │        <span style=\"color: #00af00; text-decoration-color: #00af00\">528</span> │ dropout_1[<span style=\"color: #00af00; text-decoration-color: #00af00\">0</span>][<span style=\"color: #00af00; text-decoration-color: #00af00\">0</span>]   │\n",
              "├─────────────────────┼───────────────────┼────────────┼───────────────────┤\n",
              "│ concatenate         │ (<span style=\"color: #00d7ff; text-decoration-color: #00d7ff\">None</span>, <span style=\"color: #00af00; text-decoration-color: #00af00\">80</span>)        │          <span style=\"color: #00af00; text-decoration-color: #00af00\">0</span> │ dropout[<span style=\"color: #00af00; text-decoration-color: #00af00\">0</span>][<span style=\"color: #00af00; text-decoration-color: #00af00\">0</span>],    │\n",
              "│ (<span style=\"color: #0087ff; text-decoration-color: #0087ff\">Concatenate</span>)       │                   │            │ dense_1[<span style=\"color: #00af00; text-decoration-color: #00af00\">0</span>][<span style=\"color: #00af00; text-decoration-color: #00af00\">0</span>]     │\n",
              "├─────────────────────┼───────────────────┼────────────┼───────────────────┤\n",
              "│ dense_2 (<span style=\"color: #0087ff; text-decoration-color: #0087ff\">Dense</span>)     │ (<span style=\"color: #00d7ff; text-decoration-color: #00d7ff\">None</span>, <span style=\"color: #00af00; text-decoration-color: #00af00\">32</span>)        │      <span style=\"color: #00af00; text-decoration-color: #00af00\">2,592</span> │ concatenate[<span style=\"color: #00af00; text-decoration-color: #00af00\">0</span>][<span style=\"color: #00af00; text-decoration-color: #00af00\">0</span>] │\n",
              "├─────────────────────┼───────────────────┼────────────┼───────────────────┤\n",
              "│ dense_3 (<span style=\"color: #0087ff; text-decoration-color: #0087ff\">Dense</span>)     │ (<span style=\"color: #00d7ff; text-decoration-color: #00d7ff\">None</span>, <span style=\"color: #00af00; text-decoration-color: #00af00\">32</span>)        │      <span style=\"color: #00af00; text-decoration-color: #00af00\">2,592</span> │ concatenate[<span style=\"color: #00af00; text-decoration-color: #00af00\">0</span>][<span style=\"color: #00af00; text-decoration-color: #00af00\">0</span>] │\n",
              "├─────────────────────┼───────────────────┼────────────┼───────────────────┤\n",
              "│ dropout_2 (<span style=\"color: #0087ff; text-decoration-color: #0087ff\">Dropout</span>) │ (<span style=\"color: #00d7ff; text-decoration-color: #00d7ff\">None</span>, <span style=\"color: #00af00; text-decoration-color: #00af00\">32</span>)        │          <span style=\"color: #00af00; text-decoration-color: #00af00\">0</span> │ dense_2[<span style=\"color: #00af00; text-decoration-color: #00af00\">0</span>][<span style=\"color: #00af00; text-decoration-color: #00af00\">0</span>]     │\n",
              "├─────────────────────┼───────────────────┼────────────┼───────────────────┤\n",
              "│ dropout_3 (<span style=\"color: #0087ff; text-decoration-color: #0087ff\">Dropout</span>) │ (<span style=\"color: #00d7ff; text-decoration-color: #00d7ff\">None</span>, <span style=\"color: #00af00; text-decoration-color: #00af00\">32</span>)        │          <span style=\"color: #00af00; text-decoration-color: #00af00\">0</span> │ dense_3[<span style=\"color: #00af00; text-decoration-color: #00af00\">0</span>][<span style=\"color: #00af00; text-decoration-color: #00af00\">0</span>]     │\n",
              "├─────────────────────┼───────────────────┼────────────┼───────────────────┤\n",
              "│ classification      │ (<span style=\"color: #00d7ff; text-decoration-color: #00d7ff\">None</span>, <span style=\"color: #00af00; text-decoration-color: #00af00\">1</span>)         │         <span style=\"color: #00af00; text-decoration-color: #00af00\">33</span> │ dropout_2[<span style=\"color: #00af00; text-decoration-color: #00af00\">0</span>][<span style=\"color: #00af00; text-decoration-color: #00af00\">0</span>]   │\n",
              "│ (<span style=\"color: #0087ff; text-decoration-color: #0087ff\">Dense</span>)             │                   │            │                   │\n",
              "├─────────────────────┼───────────────────┼────────────┼───────────────────┤\n",
              "│ regression (<span style=\"color: #0087ff; text-decoration-color: #0087ff\">Dense</span>)  │ (<span style=\"color: #00d7ff; text-decoration-color: #00d7ff\">None</span>, <span style=\"color: #00af00; text-decoration-color: #00af00\">1</span>)         │         <span style=\"color: #00af00; text-decoration-color: #00af00\">33</span> │ dropout_3[<span style=\"color: #00af00; text-decoration-color: #00af00\">0</span>][<span style=\"color: #00af00; text-decoration-color: #00af00\">0</span>]   │\n",
              "└─────────────────────┴───────────────────┴────────────┴───────────────────┘\n",
              "</pre>\n"
            ]
          },
          "metadata": {}
        },
        {
          "output_type": "display_data",
          "data": {
            "text/plain": [
              "\u001b[1m Total params: \u001b[0m\u001b[38;5;34m358,898\u001b[0m (1.37 MB)\n"
            ],
            "text/html": [
              "<pre style=\"white-space:pre;overflow-x:auto;line-height:normal;font-family:Menlo,'DejaVu Sans Mono',consolas,'Courier New',monospace\"><span style=\"font-weight: bold\"> Total params: </span><span style=\"color: #00af00; text-decoration-color: #00af00\">358,898</span> (1.37 MB)\n",
              "</pre>\n"
            ]
          },
          "metadata": {}
        },
        {
          "output_type": "display_data",
          "data": {
            "text/plain": [
              "\u001b[1m Trainable params: \u001b[0m\u001b[38;5;34m358,898\u001b[0m (1.37 MB)\n"
            ],
            "text/html": [
              "<pre style=\"white-space:pre;overflow-x:auto;line-height:normal;font-family:Menlo,'DejaVu Sans Mono',consolas,'Courier New',monospace\"><span style=\"font-weight: bold\"> Trainable params: </span><span style=\"color: #00af00; text-decoration-color: #00af00\">358,898</span> (1.37 MB)\n",
              "</pre>\n"
            ]
          },
          "metadata": {}
        },
        {
          "output_type": "display_data",
          "data": {
            "text/plain": [
              "\u001b[1m Non-trainable params: \u001b[0m\u001b[38;5;34m0\u001b[0m (0.00 B)\n"
            ],
            "text/html": [
              "<pre style=\"white-space:pre;overflow-x:auto;line-height:normal;font-family:Menlo,'DejaVu Sans Mono',consolas,'Courier New',monospace\"><span style=\"font-weight: bold\"> Non-trainable params: </span><span style=\"color: #00af00; text-decoration-color: #00af00\">0</span> (0.00 B)\n",
              "</pre>\n"
            ]
          },
          "metadata": {}
        }
      ]
    },
    {
      "cell_type": "markdown",
      "metadata": {
        "formattedRanges": [],
        "cell_id": "7da84fb47a694ab4a43c9fae78a9c9bc",
        "deepnote_cell_type": "text-cell-h3",
        "id": "aggBwbfEmBaC"
      },
      "source": [
        "### **Model Training**\n",
        "\n",
        "I train the unified model, tracking both the classification and regression metrics on the validation set.  \n",
        "I keep the number of epochs and batch size reasonable so that the notebook completes quickly, as required by the exam instructions.\n"
      ]
    },
    {
      "cell_type": "code",
      "metadata": {
        "source_hash": "528a9dfa",
        "execution_start": 1751039047084,
        "execution_millis": 120522,
        "execution_context_id": "2bb7d26d-6008-42d6-a392-1d486e162e53",
        "cell_id": "7707e43b87b4495c8a92676c255c0351",
        "deepnote_cell_type": "code",
        "colab": {
          "base_uri": "https://localhost:8080/",
          "height": 0
        },
        "id": "HnNWtrl8mBaC",
        "outputId": "4f788096-6bbd-4f65-d858-4b263cb34ff9"
      },
      "source": [
        "# TRAINING\n",
        "history = model.fit(\n",
        "    [X_train_text, X_train_num],\n",
        "    [y_clf_train, y_reg_train],\n",
        "    validation_data=([X_val_text, X_val_num], [y_clf_val, y_reg_val]),\n",
        "    epochs=20,\n",
        "    batch_size=32,\n",
        "    verbose=2\n",
        ")"
      ],
      "execution_count": 31,
      "outputs": [
        {
          "output_type": "stream",
          "name": "stdout",
          "text": [
            "Epoch 1/20\n",
            "302/302 - 21s - 68ms/step - classification_accuracy: 0.7129 - classification_loss: 0.7145 - loss: 4.0912 - regression_loss: 7.4660 - regression_mae: 2.0424 - val_classification_accuracy: 0.8606 - val_classification_loss: 0.3461 - val_loss: 1.3634 - val_regression_loss: 2.3809 - val_regression_mae: 1.2131\n",
            "Epoch 2/20\n",
            "302/302 - 9s - 31ms/step - classification_accuracy: 0.7087 - classification_loss: 471.2397 - loss: 238.4098 - regression_loss: 4.3989 - regression_mae: 1.6455 - val_classification_accuracy: 0.8708 - val_classification_loss: 0.4181 - val_loss: 1.2405 - val_regression_loss: 2.0652 - val_regression_mae: 1.1050\n",
            "Epoch 3/20\n",
            "302/302 - 11s - 37ms/step - classification_accuracy: 0.8618 - classification_loss: 0.3945 - loss: 1.4341 - regression_loss: 2.4716 - regression_mae: 1.2272 - val_classification_accuracy: 0.8761 - val_classification_loss: 0.3254 - val_loss: 1.0745 - val_regression_loss: 1.8248 - val_regression_mae: 1.0651\n",
            "Epoch 4/20\n",
            "302/302 - 20s - 66ms/step - classification_accuracy: 0.8841 - classification_loss: 0.3038 - loss: 1.2004 - regression_loss: 2.1014 - regression_mae: 1.1165 - val_classification_accuracy: 0.8611 - val_classification_loss: 0.3197 - val_loss: 1.0701 - val_regression_loss: 1.8230 - val_regression_mae: 1.0669\n",
            "Epoch 5/20\n",
            "302/302 - 20s - 66ms/step - classification_accuracy: 0.9025 - classification_loss: 0.2607 - loss: 1.0737 - regression_loss: 1.8886 - regression_mae: 1.0621 - val_classification_accuracy: 0.8780 - val_classification_loss: 0.2846 - val_loss: 1.0203 - val_regression_loss: 1.7575 - val_regression_mae: 1.0342\n",
            "Epoch 6/20\n",
            "302/302 - 10s - 33ms/step - classification_accuracy: 0.9132 - classification_loss: 0.2261 - loss: 0.9556 - regression_loss: 1.6886 - regression_mae: 0.9916 - val_classification_accuracy: 0.8853 - val_classification_loss: 0.2780 - val_loss: 1.0158 - val_regression_loss: 1.7565 - val_regression_mae: 1.0241\n",
            "Epoch 7/20\n",
            "302/302 - 11s - 36ms/step - classification_accuracy: 0.9222 - classification_loss: 0.2086 - loss: 0.8892 - regression_loss: 1.5686 - regression_mae: 0.9616 - val_classification_accuracy: 0.8911 - val_classification_loss: 0.2879 - val_loss: 1.0376 - val_regression_loss: 1.7877 - val_regression_mae: 1.0036\n",
            "Epoch 8/20\n",
            "302/302 - 21s - 68ms/step - classification_accuracy: 0.9241 - classification_loss: 0.1946 - loss: 0.8240 - regression_loss: 1.4522 - regression_mae: 0.9158 - val_classification_accuracy: 0.8925 - val_classification_loss: 0.3049 - val_loss: 1.0603 - val_regression_loss: 1.8147 - val_regression_mae: 1.0109\n",
            "Epoch 9/20\n",
            "302/302 - 19s - 64ms/step - classification_accuracy: 0.9336 - classification_loss: 0.1805 - loss: 0.7847 - regression_loss: 1.3868 - regression_mae: 0.8935 - val_classification_accuracy: 0.8858 - val_classification_loss: 0.3029 - val_loss: 1.0640 - val_regression_loss: 1.8239 - val_regression_mae: 1.0249\n",
            "Epoch 10/20\n",
            "302/302 - 11s - 35ms/step - classification_accuracy: 0.9365 - classification_loss: 0.1675 - loss: 0.7325 - regression_loss: 1.2971 - regression_mae: 0.8685 - val_classification_accuracy: 0.8848 - val_classification_loss: 0.3156 - val_loss: 1.0858 - val_regression_loss: 1.8537 - val_regression_mae: 1.0291\n",
            "Epoch 11/20\n",
            "302/302 - 21s - 68ms/step - classification_accuracy: 0.9390 - classification_loss: 0.1578 - loss: 0.7068 - regression_loss: 1.2631 - regression_mae: 0.8545 - val_classification_accuracy: 0.8867 - val_classification_loss: 0.3377 - val_loss: 1.1088 - val_regression_loss: 1.8770 - val_regression_mae: 1.0331\n",
            "Epoch 12/20\n",
            "302/302 - 20s - 68ms/step - classification_accuracy: 0.9452 - classification_loss: 0.1478 - loss: 0.6619 - regression_loss: 1.1794 - regression_mae: 0.8207 - val_classification_accuracy: 0.8882 - val_classification_loss: 0.3622 - val_loss: 1.1447 - val_regression_loss: 1.9236 - val_regression_mae: 1.0305\n",
            "Epoch 13/20\n",
            "302/302 - 10s - 32ms/step - classification_accuracy: 0.9457 - classification_loss: 0.1433 - loss: 0.6372 - regression_loss: 1.1297 - regression_mae: 0.8024 - val_classification_accuracy: 0.8804 - val_classification_loss: 0.3344 - val_loss: 1.1015 - val_regression_loss: 1.8673 - val_regression_mae: 1.0468\n",
            "Epoch 14/20\n",
            "302/302 - 12s - 40ms/step - classification_accuracy: 0.9502 - classification_loss: 0.1321 - loss: 0.5990 - regression_loss: 1.0640 - regression_mae: 0.7817 - val_classification_accuracy: 0.8896 - val_classification_loss: 0.3488 - val_loss: 1.1105 - val_regression_loss: 1.8690 - val_regression_mae: 1.0176\n",
            "Epoch 15/20\n",
            "302/302 - 20s - 66ms/step - classification_accuracy: 0.9512 - classification_loss: 0.1278 - loss: 0.5846 - regression_loss: 1.0407 - regression_mae: 0.7719 - val_classification_accuracy: 0.8843 - val_classification_loss: 0.3701 - val_loss: 1.1569 - val_regression_loss: 1.9409 - val_regression_mae: 1.0519\n",
            "Epoch 16/20\n",
            "302/302 - 20s - 67ms/step - classification_accuracy: 0.9550 - classification_loss: 0.1217 - loss: 0.5703 - regression_loss: 1.0186 - regression_mae: 0.7627 - val_classification_accuracy: 0.8809 - val_classification_loss: 0.4215 - val_loss: 1.2002 - val_regression_loss: 1.9749 - val_regression_mae: 1.0529\n",
            "Epoch 17/20\n",
            "302/302 - 21s - 69ms/step - classification_accuracy: 0.9564 - classification_loss: 0.1154 - loss: 0.5349 - regression_loss: 0.9543 - regression_mae: 0.7419 - val_classification_accuracy: 0.8887 - val_classification_loss: 0.3447 - val_loss: 1.0988 - val_regression_loss: 1.8527 - val_regression_mae: 1.0306\n",
            "Epoch 18/20\n",
            "302/302 - 11s - 35ms/step - classification_accuracy: 0.9589 - classification_loss: 0.1123 - loss: 0.5299 - regression_loss: 0.9459 - regression_mae: 0.7379 - val_classification_accuracy: 0.8819 - val_classification_loss: 0.3803 - val_loss: 1.1443 - val_regression_loss: 1.9073 - val_regression_mae: 1.0433\n",
            "Epoch 19/20\n",
            "302/302 - 21s - 70ms/step - classification_accuracy: 0.9600 - classification_loss: 0.1065 - loss: 0.4997 - regression_loss: 0.8919 - regression_mae: 0.7170 - val_classification_accuracy: 0.8882 - val_classification_loss: 0.4125 - val_loss: 1.1823 - val_regression_loss: 1.9507 - val_regression_mae: 1.0214\n",
            "Epoch 20/20\n",
            "302/302 - 19s - 64ms/step - classification_accuracy: 0.9616 - classification_loss: 0.1027 - loss: 0.4874 - regression_loss: 0.8720 - regression_mae: 0.7066 - val_classification_accuracy: 0.8790 - val_classification_loss: 0.4436 - val_loss: 1.2063 - val_regression_loss: 1.9663 - val_regression_mae: 1.0429\n"
          ]
        }
      ]
    },
    {
      "cell_type": "markdown",
      "metadata": {
        "formattedRanges": [],
        "cell_id": "3bd2e8715c664d53bb6add39faaed1b1",
        "deepnote_cell_type": "text-cell-h3",
        "id": "7rAhIQTTmBaD"
      },
      "source": [
        "### **5.b Hyperparameter Tuning**"
      ]
    },
    {
      "cell_type": "markdown",
      "metadata": {
        "formattedRanges": [],
        "cell_id": "b8502c72386a4d07bea17d46ae9b6518",
        "deepnote_cell_type": "text-cell-p",
        "id": "ahhLnZ0rmBaD"
      },
      "source": [
        "We always trained and tuned models for single tasks only: either classification or regression, but never both at the same time. My code is more complex because I implemented a multitask model with two outputs (binary classification and regression) and a combined total loss. This was not explicited covered in university labs but I wanted to try it.\n",
        "\n",
        "**CHANGE:**\n",
        "During the exam, I only chose which hyperparameters to tune, without specifying the method. During the implementation, I decided to use **random search** for hyperparameter tuning because, in my opinion, with a multitask model, a full grid search would be computationally excessive. For this reason, I figured it’s better to explore more of the space randomly than to overfit on a small grid. I set random seeds for both NumPy and TensorFlow to make the runs reproducible, so results are consistent if I re-run the notebook. Moreover, I divided the MSE by 10 when computing the combined score in the random search.  \n",
        "Otherwise, the scale of MSE and accuracy would be too different and one could easily overpower the other when choosing the best params.\n",
        "\n",
        "### **Hyperparameters**\n",
        "\n",
        "The main hyperparameters I considered:\n",
        "- Learning rate\n",
        "- Number of LSTM and Dense units\n",
        "- Dropout rate (regularization strength)\n",
        "- Batch size and number of epochs\n",
        "- Sequence length for text input (tuned based on review length percentiles)\n",
        "\n",
        "**CHANGE:** While I listed sequence length as a hyperparameter, in practice I did not tune it via random search. Instead, I fixed it at 50 words (the 95th percentile of actual review lengths) after exploring the data distribution. Tuning this parameter would mostly increase computation time for very little practical benefit, since nearly all reviews are way shorter than the max.\n",
        "\n",
        "\n",
        "For each experiment, I made sure to keep the validation split balanced and checked the results on both classification and regression metrics. Again, my focus was on building a fair, not necessarily optimal, model, given the time and resource constraints.\n"
      ]
    },
    {
      "cell_type": "code",
      "source": [
        "import random\n",
        "import numpy as np\n",
        "import tensorflow as tf\n",
        "from tensorflow.keras import layers, models, optimizers\n",
        "from sklearn.model_selection import ParameterSampler\n",
        "from sklearn.metrics import accuracy_score, f1_score, mean_squared_error\n",
        "\n",
        "# Set random seeds for reproducibility\n",
        "np.random.seed(42)\n",
        "tf.random.set_seed(42)\n",
        "\n",
        "# Simplified hyperparameter space\n",
        "param_dist = {\n",
        "    'learning_rate': [0.001, 0.0005],\n",
        "    'lstm_units': [64, 128],\n",
        "    'dense_units': [32, 64],\n",
        "    'dropout_rate': [0.2, 0.3],\n",
        "    'batch_size': [32, 64],\n",
        "    'epochs': [15, 20]\n",
        "}\n",
        "\n",
        "# Number of random combinations to try\n",
        "n_iter = 5"
      ],
      "metadata": {
        "id": "LnKZeLmKrB2y"
      },
      "execution_count": 32,
      "outputs": []
    },
    {
      "cell_type": "code",
      "source": [
        "# Function to create unified model\n",
        "def create_model(params):\n",
        "    # Input layers\n",
        "    text_input = layers.Input(shape=(50,), name='text_input')\n",
        "    numerical_input = layers.Input(shape=(2,), name='numerical_input')\n",
        "\n",
        "    # Text branch\n",
        "    embedding = layers.Embedding(5000, 64)(text_input)\n",
        "    lstm = layers.LSTM(params['lstm_units'])(embedding)\n",
        "    text_output = layers.Dropout(params['dropout_rate'])(lstm)\n",
        "\n",
        "    # Numerical branch\n",
        "    num_dense = layers.Dense(params['dense_units'], activation='tanh')(numerical_input)\n",
        "    num_output = layers.Dropout(params['dropout_rate']/2)(num_dense)\n",
        "\n",
        "    # Combined\n",
        "    combined = layers.Concatenate()([text_output, num_output])\n",
        "\n",
        "    # Outputs\n",
        "    clf_output = layers.Dense(1, activation='sigmoid', name='classification')(combined)\n",
        "    reg_output = layers.Dense(1, activation='linear', name='regression')(combined)\n",
        "\n",
        "    # Model\n",
        "    model = models.Model(\n",
        "        inputs=[text_input, numerical_input],\n",
        "        outputs=[clf_output, reg_output]\n",
        "    )\n",
        "\n",
        "    model.compile(\n",
        "        optimizer=optimizers.Adam(params['learning_rate']),\n",
        "        loss={\n",
        "            'classification': 'binary_crossentropy',\n",
        "            'regression': 'mse'\n",
        "        },\n",
        "        metrics={\n",
        "            'classification': 'accuracy',\n",
        "            'regression': 'mse'\n",
        "        }\n",
        "    )\n",
        "    return model"
      ],
      "metadata": {
        "id": "ULibJpnExfjh"
      },
      "execution_count": 33,
      "outputs": []
    },
    {
      "cell_type": "code",
      "source": [
        "# Random parameter sampling\n",
        "param_list = list(ParameterSampler(param_dist, n_iter=n_iter, random_state=42))\n",
        "\n",
        "# Store results\n",
        "results = []\n",
        "\n",
        "for params in param_list:\n",
        "    print(f\"\\nTesting params: {params}\")\n",
        "\n",
        "    model = create_model(params)\n",
        "\n",
        "    history = model.fit(\n",
        "        [X_train_text, X_train_num],\n",
        "        [y_clf_train, y_reg_train],\n",
        "        validation_data=([X_val_text, X_val_num], [y_clf_val, y_reg_val]),\n",
        "        epochs=params['epochs'],\n",
        "        batch_size=params['batch_size'],\n",
        "        verbose=0\n",
        "    )\n",
        "\n",
        "    # Evaluate\n",
        "    y_pred_clf, y_pred_reg = model.predict([X_val_text, X_val_num])\n",
        "    y_pred_clf = (y_pred_clf > 0.5).astype(int)\n",
        "\n",
        "    clf_acc = accuracy_score(y_clf_val, y_pred_clf)\n",
        "    reg_mse = mean_squared_error(y_reg_val, y_pred_reg)\n",
        "\n",
        "    # Combined score (higher is better)\n",
        "    combined_score = clf_acc - (reg_mse / 10)  # Normalize MSE\n",
        "\n",
        "    results.append({\n",
        "        'params': params,\n",
        "        'clf_accuracy': clf_acc,\n",
        "        'reg_mse': reg_mse,\n",
        "        'combined_score': combined_score\n",
        "    })\n",
        "\n",
        "    print(f\"Val Accuracy: {clf_acc:.4f}, Val MSE: {reg_mse:.4f}, Combined: {combined_score:.4f}\")\n",
        "\n",
        "# Get best parameters\n",
        "best_result = max(results, key=lambda x: x['combined_score'])\n",
        "best_params = best_result['params']\n",
        "\n",
        "print(\"\\nBest Parameters Found:\")\n",
        "print(best_params)"
      ],
      "metadata": {
        "colab": {
          "base_uri": "https://localhost:8080/",
          "height": 0
        },
        "id": "ztkk_60Ixo-M",
        "outputId": "b5a38329-aba1-4381-9cf4-207048ad4013"
      },
      "execution_count": 34,
      "outputs": [
        {
          "output_type": "stream",
          "name": "stdout",
          "text": [
            "\n",
            "Testing params: {'lstm_units': 64, 'learning_rate': 0.001, 'epochs': 20, 'dropout_rate': 0.2, 'dense_units': 64, 'batch_size': 64}\n",
            "\u001b[1m65/65\u001b[0m \u001b[32m━━━━━━━━━━━━━━━━━━━━\u001b[0m\u001b[37m\u001b[0m \u001b[1m1s\u001b[0m 12ms/step\n",
            "Val Accuracy: 0.8790, Val MSE: 1.9341, Combined: 0.6856\n",
            "\n",
            "Testing params: {'lstm_units': 64, 'learning_rate': 0.0005, 'epochs': 15, 'dropout_rate': 0.3, 'dense_units': 64, 'batch_size': 64}\n",
            "\u001b[1m65/65\u001b[0m \u001b[32m━━━━━━━━━━━━━━━━━━━━\u001b[0m\u001b[37m\u001b[0m \u001b[1m1s\u001b[0m 17ms/step\n",
            "Val Accuracy: 0.8921, Val MSE: 1.8439, Combined: 0.7077\n",
            "\n",
            "Testing params: {'lstm_units': 64, 'learning_rate': 0.001, 'epochs': 15, 'dropout_rate': 0.2, 'dense_units': 32, 'batch_size': 32}\n",
            "\u001b[1m65/65\u001b[0m \u001b[32m━━━━━━━━━━━━━━━━━━━━\u001b[0m\u001b[37m\u001b[0m \u001b[1m1s\u001b[0m 12ms/step\n",
            "Val Accuracy: 0.8795, Val MSE: 2.0284, Combined: 0.6766\n",
            "\n",
            "Testing params: {'lstm_units': 64, 'learning_rate': 0.001, 'epochs': 20, 'dropout_rate': 0.3, 'dense_units': 32, 'batch_size': 64}\n",
            "\u001b[1m65/65\u001b[0m \u001b[32m━━━━━━━━━━━━━━━━━━━━\u001b[0m\u001b[37m\u001b[0m \u001b[1m1s\u001b[0m 13ms/step\n",
            "Val Accuracy: 0.8814, Val MSE: 2.0017, Combined: 0.6812\n",
            "\n",
            "Testing params: {'lstm_units': 128, 'learning_rate': 0.001, 'epochs': 20, 'dropout_rate': 0.2, 'dense_units': 32, 'batch_size': 32}\n",
            "\u001b[1m65/65\u001b[0m \u001b[32m━━━━━━━━━━━━━━━━━━━━\u001b[0m\u001b[37m\u001b[0m \u001b[1m2s\u001b[0m 28ms/step\n",
            "Val Accuracy: 0.8795, Val MSE: 2.2563, Combined: 0.6539\n",
            "\n",
            "Best Parameters Found:\n",
            "{'lstm_units': 64, 'learning_rate': 0.0005, 'epochs': 15, 'dropout_rate': 0.3, 'dense_units': 64, 'batch_size': 64}\n"
          ]
        }
      ]
    },
    {
      "cell_type": "code",
      "source": [
        "# Train final model with best parameters\n",
        "print(\"Training final model with best parameters...\")\n",
        "final_model = create_model(best_params)\n",
        "\n",
        "history = final_model.fit(\n",
        "    [X_train_text, X_train_num],\n",
        "    [y_clf_train, y_reg_train],\n",
        "    validation_data=([X_val_text, X_val_num], [y_clf_val, y_reg_val]),\n",
        "    epochs=best_params['epochs'],\n",
        "    batch_size=best_params['batch_size'],\n",
        "    verbose=1\n",
        ")"
      ],
      "metadata": {
        "colab": {
          "base_uri": "https://localhost:8080/",
          "height": 0
        },
        "id": "4SWwceYDxP5q",
        "outputId": "ea070c10-ac5f-4c51-df08-8bc1178749d6"
      },
      "execution_count": 35,
      "outputs": [
        {
          "output_type": "stream",
          "name": "stdout",
          "text": [
            "Training final model with best parameters...\n",
            "Epoch 1/15\n",
            "\u001b[1m151/151\u001b[0m \u001b[32m━━━━━━━━━━━━━━━━━━━━\u001b[0m\u001b[37m\u001b[0m \u001b[1m12s\u001b[0m 55ms/step - classification_accuracy: 0.5066 - classification_loss: 0.7114 - loss: 28.8553 - regression_loss: 28.1436 - regression_mse: 28.1439 - val_classification_accuracy: 0.5329 - val_classification_loss: 0.6898 - val_loss: 4.8896 - val_regression_loss: 4.2049 - val_regression_mse: 4.2001\n",
            "Epoch 2/15\n",
            "\u001b[1m151/151\u001b[0m \u001b[32m━━━━━━━━━━━━━━━━━━━━\u001b[0m\u001b[37m\u001b[0m \u001b[1m9s\u001b[0m 44ms/step - classification_accuracy: 0.5102 - classification_loss: 0.7195 - loss: 5.2959 - regression_loss: 4.5764 - regression_mse: 4.5764 - val_classification_accuracy: 0.7043 - val_classification_loss: 0.6511 - val_loss: 3.6626 - val_regression_loss: 3.0109 - val_regression_mse: 3.0119\n",
            "Epoch 3/15\n",
            "\u001b[1m151/151\u001b[0m \u001b[32m━━━━━━━━━━━━━━━━━━━━\u001b[0m\u001b[37m\u001b[0m \u001b[1m10s\u001b[0m 44ms/step - classification_accuracy: 0.7158 - classification_loss: 0.5761 - loss: 3.6148 - regression_loss: 3.0387 - regression_mse: 3.0387 - val_classification_accuracy: 0.8693 - val_classification_loss: 0.3910 - val_loss: 2.5977 - val_regression_loss: 2.2041 - val_regression_mse: 2.2058\n",
            "Epoch 4/15\n",
            "\u001b[1m151/151\u001b[0m \u001b[32m━━━━━━━━━━━━━━━━━━━━\u001b[0m\u001b[37m\u001b[0m \u001b[1m10s\u001b[0m 44ms/step - classification_accuracy: 0.8537 - classification_loss: 0.3998 - loss: 2.9728 - regression_loss: 2.5730 - regression_mse: 2.5730 - val_classification_accuracy: 0.8804 - val_classification_loss: 0.3317 - val_loss: 2.3546 - val_regression_loss: 2.0138 - val_regression_mse: 2.0217\n",
            "Epoch 5/15\n",
            "\u001b[1m151/151\u001b[0m \u001b[32m━━━━━━━━━━━━━━━━━━━━\u001b[0m\u001b[37m\u001b[0m \u001b[1m8s\u001b[0m 53ms/step - classification_accuracy: 0.8754 - classification_loss: 0.3422 - loss: 2.6955 - regression_loss: 2.3533 - regression_mse: 2.3533 - val_classification_accuracy: 0.8863 - val_classification_loss: 0.3019 - val_loss: 2.1705 - val_regression_loss: 1.8589 - val_regression_mse: 1.8676\n",
            "Epoch 6/15\n",
            "\u001b[1m151/151\u001b[0m \u001b[32m━━━━━━━━━━━━━━━━━━━━\u001b[0m\u001b[37m\u001b[0m \u001b[1m10s\u001b[0m 49ms/step - classification_accuracy: 0.8899 - classification_loss: 0.3090 - loss: 2.4166 - regression_loss: 2.1076 - regression_mse: 2.1076 - val_classification_accuracy: 0.8892 - val_classification_loss: 0.2834 - val_loss: 2.0524 - val_regression_loss: 1.7615 - val_regression_mse: 1.7684\n",
            "Epoch 7/15\n",
            "\u001b[1m151/151\u001b[0m \u001b[32m━━━━━━━━━━━━━━━━━━━━\u001b[0m\u001b[37m\u001b[0m \u001b[1m9s\u001b[0m 44ms/step - classification_accuracy: 0.9024 - classification_loss: 0.2712 - loss: 2.2158 - regression_loss: 1.9446 - regression_mse: 1.9446 - val_classification_accuracy: 0.8930 - val_classification_loss: 0.2796 - val_loss: 1.9889 - val_regression_loss: 1.7006 - val_regression_mse: 1.7091\n",
            "Epoch 8/15\n",
            "\u001b[1m151/151\u001b[0m \u001b[32m━━━━━━━━━━━━━━━━━━━━\u001b[0m\u001b[37m\u001b[0m \u001b[1m10s\u001b[0m 44ms/step - classification_accuracy: 0.9113 - classification_loss: 0.2543 - loss: 2.0174 - regression_loss: 1.7631 - regression_mse: 1.7631 - val_classification_accuracy: 0.8901 - val_classification_loss: 0.2831 - val_loss: 1.9759 - val_regression_loss: 1.6844 - val_regression_mse: 1.6932\n",
            "Epoch 9/15\n",
            "\u001b[1m151/151\u001b[0m \u001b[32m━━━━━━━━━━━━━━━━━━━━\u001b[0m\u001b[37m\u001b[0m \u001b[1m8s\u001b[0m 53ms/step - classification_accuracy: 0.9158 - classification_loss: 0.2370 - loss: 1.8902 - regression_loss: 1.6531 - regression_mse: 1.6532 - val_classification_accuracy: 0.8921 - val_classification_loss: 0.2727 - val_loss: 1.9453 - val_regression_loss: 1.6621 - val_regression_mse: 1.6726\n",
            "Epoch 10/15\n",
            "\u001b[1m151/151\u001b[0m \u001b[32m━━━━━━━━━━━━━━━━━━━━\u001b[0m\u001b[37m\u001b[0m \u001b[1m10s\u001b[0m 53ms/step - classification_accuracy: 0.9229 - classification_loss: 0.2296 - loss: 1.7999 - regression_loss: 1.5703 - regression_mse: 1.5703 - val_classification_accuracy: 0.8887 - val_classification_loss: 0.2804 - val_loss: 1.9727 - val_regression_loss: 1.6806 - val_regression_mse: 1.6921\n",
            "Epoch 11/15\n",
            "\u001b[1m151/151\u001b[0m \u001b[32m━━━━━━━━━━━━━━━━━━━━\u001b[0m\u001b[37m\u001b[0m \u001b[1m9s\u001b[0m 43ms/step - classification_accuracy: 0.9210 - classification_loss: 0.2213 - loss: 1.7169 - regression_loss: 1.4956 - regression_mse: 1.4957 - val_classification_accuracy: 0.8867 - val_classification_loss: 0.2808 - val_loss: 1.9730 - val_regression_loss: 1.6808 - val_regression_mse: 1.6919\n",
            "Epoch 12/15\n",
            "\u001b[1m151/151\u001b[0m \u001b[32m━━━━━━━━━━━━━━━━━━━━\u001b[0m\u001b[37m\u001b[0m \u001b[1m10s\u001b[0m 45ms/step - classification_accuracy: 0.9251 - classification_loss: 0.2090 - loss: 1.6432 - regression_loss: 1.4342 - regression_mse: 1.4342 - val_classification_accuracy: 0.8906 - val_classification_loss: 0.2774 - val_loss: 1.9941 - val_regression_loss: 1.7032 - val_regression_mse: 1.7159\n",
            "Epoch 13/15\n",
            "\u001b[1m151/151\u001b[0m \u001b[32m━━━━━━━━━━━━━━━━━━━━\u001b[0m\u001b[37m\u001b[0m \u001b[1m11s\u001b[0m 47ms/step - classification_accuracy: 0.9291 - classification_loss: 0.2113 - loss: 1.5879 - regression_loss: 1.3765 - regression_mse: 1.3766 - val_classification_accuracy: 0.8921 - val_classification_loss: 0.2786 - val_loss: 2.0262 - val_regression_loss: 1.7330 - val_regression_mse: 1.7468\n",
            "Epoch 14/15\n",
            "\u001b[1m151/151\u001b[0m \u001b[32m━━━━━━━━━━━━━━━━━━━━\u001b[0m\u001b[37m\u001b[0m \u001b[1m8s\u001b[0m 53ms/step - classification_accuracy: 0.9317 - classification_loss: 0.2020 - loss: 1.5253 - regression_loss: 1.3233 - regression_mse: 1.3233 - val_classification_accuracy: 0.8896 - val_classification_loss: 0.2904 - val_loss: 2.0681 - val_regression_loss: 1.7664 - val_regression_mse: 1.7765\n",
            "Epoch 15/15\n",
            "\u001b[1m151/151\u001b[0m \u001b[32m━━━━━━━━━━━━━━━━━━━━\u001b[0m\u001b[37m\u001b[0m \u001b[1m9s\u001b[0m 46ms/step - classification_accuracy: 0.9316 - classification_loss: 0.2024 - loss: 1.4400 - regression_loss: 1.2375 - regression_mse: 1.2375 - val_classification_accuracy: 0.8901 - val_classification_loss: 0.2939 - val_loss: 2.0905 - val_regression_loss: 1.7824 - val_regression_mse: 1.7952\n"
          ]
        }
      ]
    },
    {
      "cell_type": "markdown",
      "source": [
        "## **6. Final Model Evaluation**"
      ],
      "metadata": {
        "id": "PkF7TGS4HXfS"
      }
    },
    {
      "cell_type": "markdown",
      "source": [
        "I report all relevant metrics on the test set:  \n",
        "- For classification: accuracy and F1 score, since the classes are already balanced (so precision/recall isn’t strictly necessary).\n",
        "- For regression: MSE, MAE, and R^2 score, to provide a full picture of numerical prediction performance.\n",
        "This step is key to check if the model actually generalizes well beyond the training data.\n"
      ],
      "metadata": {
        "id": "KC4Dt-4lL2WE"
      }
    },
    {
      "cell_type": "code",
      "source": [
        "# Evaluate on test set\n",
        "print(\"Final Evaluation on Test Set:\")\n",
        "y_pred_clf, y_pred_reg = final_model.predict([X_test_text, X_test_num])\n",
        "y_pred_clf = (y_pred_clf > 0.5).astype(int)\n",
        "\n",
        "# Classification metrics\n",
        "clf_acc = accuracy_score(y_clf_test, y_pred_clf)\n",
        "clf_f1 = f1_score(y_clf_test, y_pred_clf)\n",
        "\n",
        "# Regression metrics\n",
        "reg_mse = mean_squared_error(y_reg_test, y_pred_reg)\n",
        "reg_mae = mean_absolute_error(y_reg_test, y_pred_reg)\n",
        "reg_r2 = r2_score(y_reg_test, y_pred_reg)\n",
        "\n",
        "print(f\"\\nClassification Metrics:\")\n",
        "print(f\"Accuracy: {clf_acc:.4f}\")\n",
        "print(f\"F1 Score: {clf_f1:.4f}\")\n",
        "\n",
        "print(f\"\\nRegression Metrics:\")\n",
        "print(f\"MSE: {reg_mse:.4f}\")\n",
        "print(f\"MAE: {reg_mae:.4f}\")\n",
        "print(f\"R2: {reg_r2:.4f}\")"
      ],
      "metadata": {
        "colab": {
          "base_uri": "https://localhost:8080/",
          "height": 0
        },
        "id": "_g1bMzPCxNCt",
        "outputId": "d18f8f69-ccb9-44fd-b464-bad63bfad3e0"
      },
      "execution_count": 36,
      "outputs": [
        {
          "output_type": "stream",
          "name": "stdout",
          "text": [
            "Final Evaluation on Test Set:\n",
            "\u001b[1m65/65\u001b[0m \u001b[32m━━━━━━━━━━━━━━━━━━━━\u001b[0m\u001b[37m\u001b[0m \u001b[1m1s\u001b[0m 14ms/step\n",
            "\n",
            "Classification Metrics:\n",
            "Accuracy: 0.8892\n",
            "F1 Score: 0.8900\n",
            "\n",
            "Regression Metrics:\n",
            "MSE: 1.7637\n",
            "MAE: 0.9910\n",
            "R2: 0.5815\n"
          ]
        }
      ]
    },
    {
      "cell_type": "markdown",
      "source": [
        "### Confusion Matrix"
      ],
      "metadata": {
        "id": "5swZHD4vLejG"
      }
    },
    {
      "cell_type": "code",
      "source": [
        "# Calculate confusion matrix for classification\n",
        "cm_clf = confusion_matrix(y_clf_test, y_pred_clf)\n",
        "\n",
        "plt.figure(figsize=(8, 6))\n",
        "sns.heatmap(cm_clf, annot=True, fmt='d', cmap='Blues', xticklabels=['Bad', 'Good'], yticklabels=['Bad', 'Good'])\n",
        "plt.title('Confusion Matrix (Final Classification Model)')\n",
        "plt.xlabel('Predicted')\n",
        "plt.ylabel('Actual')\n",
        "plt.show()"
      ],
      "metadata": {
        "colab": {
          "base_uri": "https://localhost:8080/",
          "height": 564
        },
        "id": "d9-AntOA5KTP",
        "outputId": "fb7c93cb-6df4-44dc-a78c-a23ca8a95c4e"
      },
      "execution_count": 37,
      "outputs": [
        {
          "output_type": "display_data",
          "data": {
            "text/plain": [
              "<Figure size 800x600 with 2 Axes>"
            ],
            "image/png": "[encoded data removed]"
          },
          "metadata": {}
        }
      ]
    },
    {
      "cell_type": "markdown",
      "source": [
        "## **7. Final Consideration**\n",
        "\n",
        "While the results achieved by this multitask model are decent, they are not exceptional, and there are several limitations to keep in mind when interpreting these outcomes.\n",
        "\n",
        "First of all, the model was trained and tested on the full dataset provided (about 13,700 rows), which is a reasonable size, but the features used and the preprocessing applied were quite simple. More complex feature engineering or richer representations (e.g., pretrained embeddings) might have improved performance, especially for the regression task.\n",
        "\n",
        "On the classification task, the accuracy and F1 score were around 0.88–0.89, which is fair but still leaves plenty of room for improvement. For the regression task, an R^2 of 0.57 and an MAE of around 1.0 indicate that the model can follow the general trend of the scores but fails to capture much of the finer variability.\n",
        "\n",
        "There are also architectural choices that could be improved. I relied on basic text cleaning, a simple LSTM, and relatively shallow dense layers. Currently, more advanced NLP models (e.g., transformer-based architectures) or even just better embeddings could capture far more nuanced patterns in the reviews.\n",
        "\n",
        "Another important factor is that hyperparameter tuning was done using random search and with limited compute, rather than a full grid search or more advanced optimization strategies. This means the best possible configuration may not have been found.\n",
        "\n",
        "Lastly, the multitask approach with joint loss was an experiment on my part. While it allowed the model to share some knowledge between the tasks, it may have limited the maximum achievable performance for each task individually. With more time and resources, I would consider separate models, try ensembling, or even add external data to improve results.\n",
        "\n",
        "In summary, the results are reasonable for an initial, resource-limited attempt, but there’s a lot of room for improvement. Better text representations, more careful model selection, deeper tuning, and perhaps larger or more diverse data could all help push the results to a higher level.\n"
      ],
      "metadata": {
        "id": "3UTAYitpZmfW"
      }
    }
  ],
  "metadata": {
    "deepnote_persisted_session": {
      "createdAt": "2025-06-27T16:32:54.870Z"
    },
    "deepnote_notebook_id": "8dd73d280b724aa587a3b4e72194c9c7",
    "colab": {
      "provenance": []
    },
    "language_info": {
      "name": "python"
    },
    "kernelspec": {
      "name": "python3",
      "display_name": "Python 3"
    }
  },
  "nbformat": 4,
  "nbformat_minor": 0
}